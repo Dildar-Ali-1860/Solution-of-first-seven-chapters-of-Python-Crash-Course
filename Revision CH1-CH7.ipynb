{
 "cells": [
  {
   "cell_type": "markdown",
   "id": "1fb88adc",
   "metadata": {},
   "source": [
    "# Chapter#01 and Chapter#02"
   ]
  },
  {
   "cell_type": "code",
   "execution_count": 38,
   "id": "bde93cef",
   "metadata": {},
   "outputs": [
    {
     "name": "stdout",
     "output_type": "stream",
     "text": [
      "Dildar 78\n"
     ]
    }
   ],
   "source": [
    "name = \"Dildar\"\n",
    "score=78\n",
    "print(name,score)"
   ]
  },
  {
   "cell_type": "code",
   "execution_count": 2,
   "id": "51928f12",
   "metadata": {},
   "outputs": [
    {
     "data": {
      "text/plain": [
       "'Dildar'"
      ]
     },
     "execution_count": 2,
     "metadata": {},
     "output_type": "execute_result"
    }
   ],
   "source": [
    "name='dildar'\n",
    "name.title()"
   ]
  },
  {
   "cell_type": "code",
   "execution_count": 3,
   "id": "043861dd",
   "metadata": {},
   "outputs": [
    {
     "data": {
      "text/plain": [
       "'DILDAR'"
      ]
     },
     "execution_count": 3,
     "metadata": {},
     "output_type": "execute_result"
    }
   ],
   "source": [
    "name.upper()"
   ]
  },
  {
   "cell_type": "code",
   "execution_count": 4,
   "id": "132dcc92",
   "metadata": {},
   "outputs": [
    {
     "data": {
      "text/plain": [
       "'Dildar'"
      ]
     },
     "execution_count": 4,
     "metadata": {},
     "output_type": "execute_result"
    }
   ],
   "source": [
    "name.capitalize()"
   ]
  },
  {
   "cell_type": "code",
   "execution_count": 5,
   "id": "2c5b1885",
   "metadata": {},
   "outputs": [
    {
     "data": {
      "text/plain": [
       "'dildar'"
      ]
     },
     "execution_count": 5,
     "metadata": {},
     "output_type": "execute_result"
    }
   ],
   "source": [
    "name.lower()"
   ]
  },
  {
   "cell_type": "code",
   "execution_count": 6,
   "id": "47cd8384",
   "metadata": {},
   "outputs": [
    {
     "data": {
      "text/plain": [
       "complex"
      ]
     },
     "execution_count": 6,
     "metadata": {},
     "output_type": "execute_result"
    }
   ],
   "source": [
    "a=2+5j\n",
    "type(a)"
   ]
  },
  {
   "cell_type": "code",
   "execution_count": 8,
   "id": "c6f82d19",
   "metadata": {},
   "outputs": [
    {
     "name": "stdout",
     "output_type": "stream",
     "text": [
      "DildarBaloch\n"
     ]
    }
   ],
   "source": [
    "name=\"Dildar\"\n",
    "caste=\"Baloch\"\n",
    "print(name+caste)"
   ]
  },
  {
   "cell_type": "code",
   "execution_count": 9,
   "id": "92854642",
   "metadata": {},
   "outputs": [
    {
     "name": "stdout",
     "output_type": "stream",
     "text": [
      "Dildar Baloch\n"
     ]
    }
   ],
   "source": [
    "print(name,caste)"
   ]
  },
  {
   "cell_type": "code",
   "execution_count": 11,
   "id": "5eb27d98",
   "metadata": {},
   "outputs": [
    {
     "data": {
      "text/plain": [
       "'1090'"
      ]
     },
     "execution_count": 11,
     "metadata": {},
     "output_type": "execute_result"
    }
   ],
   "source": [
    "a='10'\n",
    "b='90'\n",
    "a+b"
   ]
  },
  {
   "cell_type": "code",
   "execution_count": 12,
   "id": "a7834e9b",
   "metadata": {},
   "outputs": [
    {
     "data": {
      "text/plain": [
       "100"
      ]
     },
     "execution_count": 12,
     "metadata": {},
     "output_type": "execute_result"
    }
   ],
   "source": [
    "a=10\n",
    "b=90\n",
    "a+b"
   ]
  },
  {
   "cell_type": "code",
   "execution_count": 13,
   "id": "0a57ca39",
   "metadata": {},
   "outputs": [
    {
     "data": {
      "text/plain": [
       "True"
      ]
     },
     "execution_count": 13,
     "metadata": {},
     "output_type": "execute_result"
    }
   ],
   "source": [
    "a=10\n",
    "b=90\n",
    "a+b==100"
   ]
  },
  {
   "cell_type": "code",
   "execution_count": 17,
   "id": "69efd5db",
   "metadata": {},
   "outputs": [
    {
     "data": {
      "text/plain": [
       "'ali'"
      ]
     },
     "execution_count": 17,
     "metadata": {},
     "output_type": "execute_result"
    }
   ],
   "source": [
    "name='ali '\n",
    "name.rstrip()"
   ]
  },
  {
   "cell_type": "code",
   "execution_count": 18,
   "id": "91247398",
   "metadata": {},
   "outputs": [
    {
     "data": {
      "text/plain": [
       "'ali '"
      ]
     },
     "execution_count": 18,
     "metadata": {},
     "output_type": "execute_result"
    }
   ],
   "source": [
    "name.lstrip()"
   ]
  },
  {
   "cell_type": "code",
   "execution_count": 19,
   "id": "7961044b",
   "metadata": {},
   "outputs": [
    {
     "data": {
      "text/plain": [
       "'ali'"
      ]
     },
     "execution_count": 19,
     "metadata": {},
     "output_type": "execute_result"
    }
   ],
   "source": [
    "name.strip()"
   ]
  },
  {
   "cell_type": "code",
   "execution_count": 21,
   "id": "715a5fa1",
   "metadata": {},
   "outputs": [
    {
     "name": "stdout",
     "output_type": "stream",
     "text": [
      "My name's Dildar Ali.\n",
      "My name's Dildar's Ali.\n"
     ]
    }
   ],
   "source": [
    "print(\"My name's Dildar Ali.\")\n",
    "print(\"My name\\'s Dildar\\'s Ali.\")"
   ]
  },
  {
   "cell_type": "code",
   "execution_count": 24,
   "id": "eabd59a7",
   "metadata": {},
   "outputs": [
    {
     "data": {
      "text/plain": [
       "512"
      ]
     },
     "execution_count": 24,
     "metadata": {},
     "output_type": "execute_result"
    }
   ],
   "source": [
    "2**3**2"
   ]
  },
  {
   "cell_type": "code",
   "execution_count": 27,
   "id": "4beb592f",
   "metadata": {},
   "outputs": [
    {
     "data": {
      "text/plain": [
       "64"
      ]
     },
     "execution_count": 27,
     "metadata": {},
     "output_type": "execute_result"
    }
   ],
   "source": [
    "(2**3)**2"
   ]
  },
  {
   "cell_type": "code",
   "execution_count": 28,
   "id": "c4cd2618",
   "metadata": {},
   "outputs": [
    {
     "data": {
      "text/plain": [
       "11"
      ]
     },
     "execution_count": 28,
     "metadata": {},
     "output_type": "execute_result"
    }
   ],
   "source": [
    "23//2"
   ]
  },
  {
   "cell_type": "code",
   "execution_count": 31,
   "id": "b3a3c0fd",
   "metadata": {},
   "outputs": [
    {
     "ename": "TypeError",
     "evalue": "can only concatenate str (not \"int\") to str",
     "output_type": "error",
     "traceback": [
      "\u001b[1;31m---------------------------------------------------------------------------\u001b[0m",
      "\u001b[1;31mTypeError\u001b[0m                                 Traceback (most recent call last)",
      "Input \u001b[1;32mIn [31]\u001b[0m, in \u001b[0;36m<cell line: 2>\u001b[1;34m()\u001b[0m\n\u001b[0;32m      1\u001b[0m age\u001b[38;5;241m=\u001b[39m\u001b[38;5;241m22\u001b[39m\n\u001b[1;32m----> 2\u001b[0m message\u001b[38;5;241m=\u001b[39m\u001b[38;5;124;43m\"\u001b[39;49m\u001b[38;5;124;43mHappy \u001b[39;49m\u001b[38;5;124;43m\"\u001b[39;49m\u001b[38;5;241;43m+\u001b[39;49m\u001b[43mage\u001b[49m \u001b[38;5;241m+\u001b[39m \u001b[38;5;124m\"\u001b[39m\u001b[38;5;124mnd Birthday Dildar!\u001b[39m\u001b[38;5;124m\"\u001b[39m\n\u001b[0;32m      3\u001b[0m \u001b[38;5;28mprint\u001b[39m(message)\n",
      "\u001b[1;31mTypeError\u001b[0m: can only concatenate str (not \"int\") to str"
     ]
    }
   ],
   "source": [
    "age=22\n",
    "message=\"Happy \"+ age + \"nd Birthday Dildar!\"\n",
    "print(message)"
   ]
  },
  {
   "cell_type": "code",
   "execution_count": 32,
   "id": "454425a5",
   "metadata": {},
   "outputs": [
    {
     "name": "stdout",
     "output_type": "stream",
     "text": [
      "('Happy ', 22, 'nd Birthday Dildar!')\n"
     ]
    }
   ],
   "source": [
    "age=22\n",
    "message=\"Happy \",age, \"nd Birthday Dildar!\"\n",
    "print(message)"
   ]
  },
  {
   "cell_type": "code",
   "execution_count": 33,
   "id": "843fea80",
   "metadata": {},
   "outputs": [
    {
     "name": "stdout",
     "output_type": "stream",
     "text": [
      "Happy 22nd Birthday Dildar!\n"
     ]
    }
   ],
   "source": [
    "age=22\n",
    "message=\"Happy \"+str(age) + \"nd Birthday Dildar!\"\n",
    "print(message)"
   ]
  },
  {
   "cell_type": "code",
   "execution_count": 34,
   "id": "ada9c9d5",
   "metadata": {},
   "outputs": [
    {
     "ename": "TypeError",
     "evalue": "can only concatenate str (not \"int\") to str",
     "output_type": "error",
     "traceback": [
      "\u001b[1;31m---------------------------------------------------------------------------\u001b[0m",
      "\u001b[1;31mTypeError\u001b[0m                                 Traceback (most recent call last)",
      "Input \u001b[1;32mIn [34]\u001b[0m, in \u001b[0;36m<cell line: 2>\u001b[1;34m()\u001b[0m\n\u001b[0;32m      1\u001b[0m fav_number\u001b[38;5;241m=\u001b[39m\u001b[38;5;241m1860\u001b[39m\n\u001b[1;32m----> 2\u001b[0m message\u001b[38;5;241m=\u001b[39m\u001b[38;5;124;43m\"\u001b[39;49m\u001b[38;5;124;43mMy favourite number is \u001b[39;49m\u001b[38;5;124;43m\"\u001b[39;49m\u001b[38;5;241;43m+\u001b[39;49m\u001b[43mfav_number\u001b[49m\u001b[38;5;241m+\u001b[39m\u001b[38;5;124m\"\u001b[39m\u001b[38;5;124m!\u001b[39m\u001b[38;5;124m\"\u001b[39m\n\u001b[0;32m      3\u001b[0m \u001b[38;5;28mprint\u001b[39m(message)\n",
      "\u001b[1;31mTypeError\u001b[0m: can only concatenate str (not \"int\") to str"
     ]
    }
   ],
   "source": [
    "fav_number=1860\n",
    "message=\"My favourite number is \"+fav_number+\"!\"\n",
    "print(message)"
   ]
  },
  {
   "cell_type": "code",
   "execution_count": 35,
   "id": "7cc20f0a",
   "metadata": {},
   "outputs": [
    {
     "name": "stdout",
     "output_type": "stream",
     "text": [
      "('My favourite number is ', 1860, '!')\n"
     ]
    }
   ],
   "source": [
    "fav_number=1860\n",
    "message=\"My favourite number is \",fav_number,\"!\"\n",
    "print(message)"
   ]
  },
  {
   "cell_type": "code",
   "execution_count": 36,
   "id": "b4a7e718",
   "metadata": {},
   "outputs": [
    {
     "name": "stdout",
     "output_type": "stream",
     "text": [
      "My favourite number is 1860!\n"
     ]
    }
   ],
   "source": [
    "fav_number=1860\n",
    "message=\"My favourite number is \"+str(fav_number)+\"!\"\n",
    "print(message)"
   ]
  },
  {
   "cell_type": "markdown",
   "id": "b76e037c",
   "metadata": {},
   "source": [
    "# Chapter#03"
   ]
  },
  {
   "cell_type": "code",
   "execution_count": 39,
   "id": "61fce74e",
   "metadata": {},
   "outputs": [
    {
     "name": "stdout",
     "output_type": "stream",
     "text": [
      "['trek', 'cannondale', 'redline', 'specialized']\n"
     ]
    }
   ],
   "source": [
    "bicycles = ['trek', 'cannondale', 'redline', 'specialized']\n",
    "print(bicycles)"
   ]
  },
  {
   "cell_type": "code",
   "execution_count": 41,
   "id": "e7a02be9",
   "metadata": {},
   "outputs": [
    {
     "ename": "SyntaxError",
     "evalue": "invalid syntax (3537589308.py, line 1)",
     "output_type": "error",
     "traceback": [
      "\u001b[1;36m  Input \u001b[1;32mIn [41]\u001b[1;36m\u001b[0m\n\u001b[1;33m    bicycles[0.title()]\u001b[0m\n\u001b[1;37m               ^\u001b[0m\n\u001b[1;31mSyntaxError\u001b[0m\u001b[1;31m:\u001b[0m invalid syntax\n"
     ]
    }
   ],
   "source": [
    "bicycles[0.title()]"
   ]
  },
  {
   "cell_type": "code",
   "execution_count": 42,
   "id": "050a2a54",
   "metadata": {},
   "outputs": [
    {
     "name": "stdout",
     "output_type": "stream",
     "text": [
      "Trek\n"
     ]
    }
   ],
   "source": [
    "print(bicycles[0].title())"
   ]
  },
  {
   "cell_type": "code",
   "execution_count": 43,
   "id": "15336ae4",
   "metadata": {},
   "outputs": [
    {
     "name": "stdout",
     "output_type": "stream",
     "text": [
      "REDLINE\n"
     ]
    }
   ],
   "source": [
    "print(bicycles[2].upper())"
   ]
  },
  {
   "cell_type": "code",
   "execution_count": 44,
   "id": "7bd73f11",
   "metadata": {},
   "outputs": [
    {
     "name": "stdout",
     "output_type": "stream",
     "text": [
      "My first bicycle was Trek\n"
     ]
    }
   ],
   "source": [
    "print(\"My first bicycle was\",bicycles[0].title())"
   ]
  },
  {
   "cell_type": "code",
   "execution_count": 45,
   "id": "d70fa250",
   "metadata": {},
   "outputs": [
    {
     "name": "stdout",
     "output_type": "stream",
     "text": [
      "My first bicycle wasTrek\n"
     ]
    }
   ],
   "source": [
    "print(\"My first bicycle was\"+bicycles[0].title())"
   ]
  },
  {
   "cell_type": "code",
   "execution_count": 46,
   "id": "d000ac77",
   "metadata": {},
   "outputs": [
    {
     "name": "stdout",
     "output_type": "stream",
     "text": [
      "Aamir\n",
      "Kazim\n",
      "Bilal\n"
     ]
    }
   ],
   "source": [
    "names=[\"aamir\",\"kazim\",\"bilal\"]\n",
    "for name in names:\n",
    "    print(name.title())"
   ]
  },
  {
   "cell_type": "code",
   "execution_count": 47,
   "id": "94c93142",
   "metadata": {},
   "outputs": [
    {
     "name": "stdout",
     "output_type": "stream",
     "text": [
      "You are my best friend Aamir!\n",
      "You are my best friend Kazim!\n",
      "You are my best friend Bilal!\n"
     ]
    }
   ],
   "source": [
    "names=[\"aamir\",\"kazim\",\"bilal\"]\n",
    "for name in names:\n",
    "    print(\"You are my best friend\"+\" \"+name.title()+\"!\")"
   ]
  },
  {
   "cell_type": "code",
   "execution_count": 48,
   "id": "5ebd6460",
   "metadata": {},
   "outputs": [
    {
     "data": {
      "text/plain": [
       "['Civic', 'city', 'suzuki', 'parado', 'xyz']"
      ]
     },
     "execution_count": 48,
     "metadata": {},
     "output_type": "execute_result"
    }
   ],
   "source": [
    "cars=[\"Civic\",\"city\",\"suzuki\",\"parado\"]\n",
    "cars.append(\"xyz\")\n",
    "cars"
   ]
  },
  {
   "cell_type": "code",
   "execution_count": 49,
   "id": "9f39f3a2",
   "metadata": {},
   "outputs": [
    {
     "data": {
      "text/plain": [
       "'suzuki'"
      ]
     },
     "execution_count": 49,
     "metadata": {},
     "output_type": "execute_result"
    }
   ],
   "source": [
    "cars.pop(2)"
   ]
  },
  {
   "cell_type": "code",
   "execution_count": 50,
   "id": "ab794c0d",
   "metadata": {},
   "outputs": [
    {
     "data": {
      "text/plain": [
       "['Civic', 'city', 'parado', 'xyz']"
      ]
     },
     "execution_count": 50,
     "metadata": {},
     "output_type": "execute_result"
    }
   ],
   "source": [
    "cars"
   ]
  },
  {
   "cell_type": "code",
   "execution_count": 51,
   "id": "2f3e86f2",
   "metadata": {},
   "outputs": [],
   "source": [
    "cars.insert(2,\"suzuki\")"
   ]
  },
  {
   "cell_type": "code",
   "execution_count": 52,
   "id": "a2d8d745",
   "metadata": {},
   "outputs": [
    {
     "data": {
      "text/plain": [
       "['Civic', 'city', 'suzuki', 'parado', 'xyz']"
      ]
     },
     "execution_count": 52,
     "metadata": {},
     "output_type": "execute_result"
    }
   ],
   "source": [
    "cars"
   ]
  },
  {
   "cell_type": "code",
   "execution_count": 55,
   "id": "498bd10d",
   "metadata": {},
   "outputs": [
    {
     "data": {
      "text/plain": [
       "['Civic', 'city', 'suzuki', 'parado']"
      ]
     },
     "execution_count": 55,
     "metadata": {},
     "output_type": "execute_result"
    }
   ],
   "source": [
    "del cars[-1]\n",
    "cars"
   ]
  },
  {
   "cell_type": "code",
   "execution_count": 56,
   "id": "e611d895",
   "metadata": {},
   "outputs": [
    {
     "data": {
      "text/plain": [
       "['Civic', 'suzuki', 'parado']"
      ]
     },
     "execution_count": 56,
     "metadata": {},
     "output_type": "execute_result"
    }
   ],
   "source": [
    "cars.remove(\"city\")\n",
    "cars"
   ]
  },
  {
   "cell_type": "code",
   "execution_count": 57,
   "id": "4cf9604e",
   "metadata": {},
   "outputs": [
    {
     "data": {
      "text/plain": [
       "['Civic', 'suzuki', 'ali']"
      ]
     },
     "execution_count": 57,
     "metadata": {},
     "output_type": "execute_result"
    }
   ],
   "source": [
    "cars[2]='ali'\n",
    "cars"
   ]
  },
  {
   "cell_type": "code",
   "execution_count": 58,
   "id": "00e04649",
   "metadata": {},
   "outputs": [
    {
     "data": {
      "text/plain": [
       "['Civic', 'suzuki', 'mehran']"
      ]
     },
     "execution_count": 58,
     "metadata": {},
     "output_type": "execute_result"
    }
   ],
   "source": [
    "cars[2]='mehran'\n",
    "cars"
   ]
  },
  {
   "cell_type": "code",
   "execution_count": 60,
   "id": "254699ac",
   "metadata": {},
   "outputs": [
    {
     "name": "stdout",
     "output_type": "stream",
     "text": [
      "['Abdul', 'Asad', 'Dildar', 'Umer', 'aamir', 'ali']\n"
     ]
    }
   ],
   "source": [
    "gues_list=['ali', 'Asad', 'aamir', 'Abdul', 'Umer', 'Dildar']\n",
    "gues_list.sort()\n",
    "print(gues_list)"
   ]
  },
  {
   "cell_type": "code",
   "execution_count": 63,
   "id": "9ee9e9ac",
   "metadata": {},
   "outputs": [
    {
     "name": "stdout",
     "output_type": "stream",
     "text": [
      "['ali', 'aamir', 'Umer', 'Dildar', 'Asad', 'Abdul']\n"
     ]
    }
   ],
   "source": [
    "gues_list.reverse()\n",
    "print(gues_list)"
   ]
  },
  {
   "cell_type": "code",
   "execution_count": 64,
   "id": "51fdfd34",
   "metadata": {},
   "outputs": [
    {
     "name": "stdout",
     "output_type": "stream",
     "text": [
      "None\n"
     ]
    }
   ],
   "source": [
    "print(gues_list.reverse())"
   ]
  },
  {
   "cell_type": "code",
   "execution_count": 71,
   "id": "aebe44f3",
   "metadata": {},
   "outputs": [
    {
     "data": {
      "text/plain": [
       "['karachi', 'Jamshoro', 'Multan', 'Lahore', 'Dadu', 'Sehwan', 'Larkana']"
      ]
     },
     "execution_count": 71,
     "metadata": {},
     "output_type": "execute_result"
    }
   ],
   "source": [
    "cities=[\"karachi\",\"Multan\",\"Lahore\",\"Dadu\",\"Sehwan\"]\n",
    "cities.append(\"Larkana\")\n",
    "cities.insert(1,\"Jamshoro\")\n",
    "cities"
   ]
  },
  {
   "cell_type": "code",
   "execution_count": 72,
   "id": "3b181bc6",
   "metadata": {},
   "outputs": [
    {
     "data": {
      "text/plain": [
       "7"
      ]
     },
     "execution_count": 72,
     "metadata": {},
     "output_type": "execute_result"
    }
   ],
   "source": [
    "len(cities)"
   ]
  },
  {
   "cell_type": "code",
   "execution_count": 73,
   "id": "579aa9f2",
   "metadata": {},
   "outputs": [
    {
     "data": {
      "text/plain": [
       "['karachi', 'Jamshoro', 'Multan', 'Lahore', 'Dadu', 'Larkana']"
      ]
     },
     "execution_count": 73,
     "metadata": {},
     "output_type": "execute_result"
    }
   ],
   "source": [
    "cities.remove(\"Sehwan\")\n",
    "cities"
   ]
  },
  {
   "cell_type": "code",
   "execution_count": 74,
   "id": "5a772493",
   "metadata": {},
   "outputs": [
    {
     "data": {
      "text/plain": [
       "['karachi', 'Jamshoro', 'Multan', 'Dadu', 'Larkana']"
      ]
     },
     "execution_count": 74,
     "metadata": {},
     "output_type": "execute_result"
    }
   ],
   "source": [
    "cities.pop(3)\n",
    "cities"
   ]
  },
  {
   "cell_type": "code",
   "execution_count": 75,
   "id": "05f11468",
   "metadata": {},
   "outputs": [
    {
     "data": {
      "text/plain": [
       "['karachi', 'Jamshoro', 'Dadu', 'Larkana']"
      ]
     },
     "execution_count": 75,
     "metadata": {},
     "output_type": "execute_result"
    }
   ],
   "source": [
    "del cities[2]\n",
    "cities"
   ]
  },
  {
   "cell_type": "code",
   "execution_count": 76,
   "id": "9dc623ef",
   "metadata": {},
   "outputs": [
    {
     "data": {
      "text/plain": [
       "[]"
      ]
     },
     "execution_count": 76,
     "metadata": {},
     "output_type": "execute_result"
    }
   ],
   "source": [
    "cities.clear()\n",
    "cities"
   ]
  },
  {
   "cell_type": "markdown",
   "id": "82172212",
   "metadata": {},
   "source": [
    "# Chapter#04"
   ]
  },
  {
   "cell_type": "code",
   "execution_count": 78,
   "id": "cc713d42",
   "metadata": {},
   "outputs": [
    {
     "name": "stdout",
     "output_type": "stream",
     "text": [
      "Hello Alice\n",
      "Hello David\n",
      "Hello Carolina\n"
     ]
    }
   ],
   "source": [
    "magicians = ['alice', 'david', 'carolina'] \n",
    "for magician in magicians: \n",
    "     print(\"Hello\"+\" \"+magician.title())"
   ]
  },
  {
   "cell_type": "code",
   "execution_count": 79,
   "id": "9bda8708",
   "metadata": {},
   "outputs": [
    {
     "name": "stdout",
     "output_type": "stream",
     "text": [
      "Hello Alice\n",
      "Hello David\n",
      "Hello Carolina\n"
     ]
    }
   ],
   "source": [
    "magicians = ['alice', 'david', 'carolina'] \n",
    "for magician in magicians: \n",
    "     print(\"Hello\",magician.title())"
   ]
  },
  {
   "cell_type": "code",
   "execution_count": 81,
   "id": "c43b370b",
   "metadata": {},
   "outputs": [
    {
     "name": "stdout",
     "output_type": "stream",
     "text": [
      "Alice, that was great trick!\n",
      "I can't wait to see your next trick Alice\n",
      "\n",
      "David, that was great trick!\n",
      "I can't wait to see your next trick David\n",
      "\n",
      "Carolina, that was great trick!\n",
      "I can't wait to see your next trick Carolina\n",
      "\n",
      "#Thankyou everyone, that was great magic show!#\n"
     ]
    }
   ],
   "source": [
    "magicians = ['alice', 'david', 'carolina'] \n",
    "for magician in magicians:\n",
    "    \n",
    "    print(magician.title()+\", that was great trick!\")\n",
    "    print(\"I can't wait to see your next trick \"+magician.title()+\"\\n\") \n",
    "print(\"#Thankyou everyone, that was great magic show!#\")    "
   ]
  },
  {
   "cell_type": "code",
   "execution_count": 82,
   "id": "6fcc474a",
   "metadata": {},
   "outputs": [
    {
     "name": "stdout",
     "output_type": "stream",
     "text": [
      "1 Dildar\n",
      "2 Dildar\n",
      "3 Dildar\n",
      "4 Dildar\n"
     ]
    }
   ],
   "source": [
    "for a in range(1,5):\n",
    "    print(a,\"Dildar\")"
   ]
  },
  {
   "cell_type": "code",
   "execution_count": 85,
   "id": "55eff3de",
   "metadata": {},
   "outputs": [
    {
     "name": "stdout",
     "output_type": "stream",
     "text": [
      "0 1 2 3 4 "
     ]
    }
   ],
   "source": [
    "for a in range(5):\n",
    "    print(a,end=' ')"
   ]
  },
  {
   "cell_type": "code",
   "execution_count": 86,
   "id": "6ec820fa",
   "metadata": {},
   "outputs": [
    {
     "name": "stdout",
     "output_type": "stream",
     "text": [
      "[1, 2, 3, 4, 5]\n"
     ]
    }
   ],
   "source": [
    "a=list(i for i in range(1,6))\n",
    "print(a)"
   ]
  },
  {
   "cell_type": "code",
   "execution_count": 88,
   "id": "0ca3c8bb",
   "metadata": {},
   "outputs": [
    {
     "name": "stdout",
     "output_type": "stream",
     "text": [
      "[1, 2, 3, 4, 5]\n"
     ]
    }
   ],
   "source": [
    "a=list(range(1,6))\n",
    "print(a)"
   ]
  },
  {
   "cell_type": "code",
   "execution_count": 89,
   "id": "b9350af4",
   "metadata": {},
   "outputs": [
    {
     "data": {
      "text/plain": [
       "[1, 2, 3, 4, 5]"
      ]
     },
     "execution_count": 89,
     "metadata": {},
     "output_type": "execute_result"
    }
   ],
   "source": [
    "a=[i for i in range(1,6)]\n",
    "a"
   ]
  },
  {
   "cell_type": "code",
   "execution_count": 90,
   "id": "2b2a5a91",
   "metadata": {},
   "outputs": [
    {
     "name": "stdout",
     "output_type": "stream",
     "text": [
      "Even NUmbers:  [2, 4, 6, 8, 10, 12, 14, 16, 18, 20]\n"
     ]
    }
   ],
   "source": [
    "even_numbers=list(range(2,21,2))\n",
    "print(\"Even NUmbers: \",even_numbers)"
   ]
  },
  {
   "cell_type": "code",
   "execution_count": 91,
   "id": "b22140d7",
   "metadata": {},
   "outputs": [
    {
     "name": "stdout",
     "output_type": "stream",
     "text": [
      "Odd NUmbers:  [1, 3, 5, 7, 9, 11, 13, 15, 17, 19]\n"
     ]
    }
   ],
   "source": [
    "even_numbers=list(range(1,21,2))\n",
    "print(\"Odd NUmbers: \",even_numbers)"
   ]
  },
  {
   "cell_type": "code",
   "execution_count": 92,
   "id": "8e43b853",
   "metadata": {},
   "outputs": [
    {
     "name": "stdout",
     "output_type": "stream",
     "text": [
      "[1, 4, 9, 16, 25, 36, 49, 64, 81, 100]\n"
     ]
    }
   ],
   "source": [
    "squares=[]\n",
    "for a in range(1,11):\n",
    "    square=a**2\n",
    "    squares.append(square)\n",
    "print(squares)"
   ]
  },
  {
   "cell_type": "code",
   "execution_count": 93,
   "id": "b81f6720",
   "metadata": {},
   "outputs": [
    {
     "name": "stdout",
     "output_type": "stream",
     "text": [
      "[1, 4, 9, 16, 25, 36, 49, 64, 81, 100]\n"
     ]
    }
   ],
   "source": [
    "squares=[]\n",
    "for a in range(1,11):\n",
    "      squares.append(a**2)\n",
    "print(squares)"
   ]
  },
  {
   "cell_type": "code",
   "execution_count": 94,
   "id": "55625657",
   "metadata": {},
   "outputs": [
    {
     "data": {
      "text/plain": [
       "9"
      ]
     },
     "execution_count": 94,
     "metadata": {},
     "output_type": "execute_result"
    }
   ],
   "source": [
    "digits=[1,2,3,4,5,6,7,8,9]\n",
    "max(digits)"
   ]
  },
  {
   "cell_type": "code",
   "execution_count": 96,
   "id": "8c4f6363",
   "metadata": {},
   "outputs": [
    {
     "data": {
      "text/plain": [
       "1"
      ]
     },
     "execution_count": 96,
     "metadata": {},
     "output_type": "execute_result"
    }
   ],
   "source": [
    "min(digits)"
   ]
  },
  {
   "cell_type": "code",
   "execution_count": 97,
   "id": "26d38dc5",
   "metadata": {},
   "outputs": [
    {
     "data": {
      "text/plain": [
       "45"
      ]
     },
     "execution_count": 97,
     "metadata": {},
     "output_type": "execute_result"
    }
   ],
   "source": [
    "sum(digits)"
   ]
  },
  {
   "cell_type": "code",
   "execution_count": 98,
   "id": "3a022f4c",
   "metadata": {},
   "outputs": [
    {
     "data": {
      "text/plain": [
       "5050"
      ]
     },
     "execution_count": 98,
     "metadata": {},
     "output_type": "execute_result"
    }
   ],
   "source": [
    "a=range(101)\n",
    "sum(a)"
   ]
  },
  {
   "cell_type": "code",
   "execution_count": 99,
   "id": "2c6710db",
   "metadata": {},
   "outputs": [
    {
     "data": {
      "text/plain": [
       "100"
      ]
     },
     "execution_count": 99,
     "metadata": {},
     "output_type": "execute_result"
    }
   ],
   "source": [
    "max(a)"
   ]
  },
  {
   "cell_type": "code",
   "execution_count": 101,
   "id": "a70b153c",
   "metadata": {},
   "outputs": [
    {
     "data": {
      "text/plain": [
       "[1, 4, 9, 16, 25, 36, 49, 64, 81, 100]"
      ]
     },
     "execution_count": 101,
     "metadata": {},
     "output_type": "execute_result"
    }
   ],
   "source": [
    "squares=[a**2 for a in range(1,11)]\n",
    "squares"
   ]
  },
  {
   "cell_type": "code",
   "execution_count": 102,
   "id": "ce8dd5fc",
   "metadata": {},
   "outputs": [
    {
     "data": {
      "text/plain": [
       "[1, 8, 27, 64, 125, 216, 343, 512, 729, 1000]"
      ]
     },
     "execution_count": 102,
     "metadata": {},
     "output_type": "execute_result"
    }
   ],
   "source": [
    "cubes=[a**3 for a in range(1,11)]\n",
    "cubes"
   ]
  },
  {
   "cell_type": "code",
   "execution_count": 105,
   "id": "503bb4fa",
   "metadata": {},
   "outputs": [
    {
     "name": "stdout",
     "output_type": "stream",
     "text": [
      "1 2 3 4 5 6 7 8 9 10 11 12 13 14 15 16 17 18 19 20 "
     ]
    }
   ],
   "source": [
    "for i in range(1,21):\n",
    "    print(i,end=\" \")"
   ]
  },
  {
   "cell_type": "code",
   "execution_count": 106,
   "id": "9c6997b0",
   "metadata": {},
   "outputs": [
    {
     "name": "stdout",
     "output_type": "stream",
     "text": [
      "1 3 5 7 9 11 13 15 17 19 "
     ]
    }
   ],
   "source": [
    "for i in range(1,21,2):\n",
    "    print(i,end=\" \")"
   ]
  },
  {
   "cell_type": "code",
   "execution_count": 107,
   "id": "a2816733",
   "metadata": {},
   "outputs": [
    {
     "name": "stdout",
     "output_type": "stream",
     "text": [
      "2 4 6 8 10 12 14 16 18 20 "
     ]
    }
   ],
   "source": [
    "for i in range(2,21,2):\n",
    "    print(i,end=\" \")"
   ]
  },
  {
   "cell_type": "code",
   "execution_count": 111,
   "id": "89532133",
   "metadata": {},
   "outputs": [
    {
     "data": {
      "text/plain": [
       "1"
      ]
     },
     "execution_count": 111,
     "metadata": {},
     "output_type": "execute_result"
    }
   ],
   "source": [
    "a=range(1,1000001)\n",
    "min(a)"
   ]
  },
  {
   "cell_type": "code",
   "execution_count": 112,
   "id": "394b7a3e",
   "metadata": {},
   "outputs": [
    {
     "data": {
      "text/plain": [
       "1000000"
      ]
     },
     "execution_count": 112,
     "metadata": {},
     "output_type": "execute_result"
    }
   ],
   "source": [
    "max(a)"
   ]
  },
  {
   "cell_type": "code",
   "execution_count": 113,
   "id": "794d7b50",
   "metadata": {},
   "outputs": [
    {
     "data": {
      "text/plain": [
       "500000500000"
      ]
     },
     "execution_count": 113,
     "metadata": {},
     "output_type": "execute_result"
    }
   ],
   "source": [
    "sum(a)"
   ]
  },
  {
   "cell_type": "code",
   "execution_count": 114,
   "id": "b8706dc4",
   "metadata": {},
   "outputs": [
    {
     "data": {
      "text/plain": [
       "[1, 3, 5, 7, 9, 11, 13, 15, 17, 19]"
      ]
     },
     "execution_count": 114,
     "metadata": {},
     "output_type": "execute_result"
    }
   ],
   "source": [
    "a=[i for i in range(1,20,2)]\n",
    "a"
   ]
  },
  {
   "cell_type": "code",
   "execution_count": 115,
   "id": "031957e3",
   "metadata": {},
   "outputs": [
    {
     "name": "stdout",
     "output_type": "stream",
     "text": [
      "['charles', 'martina', 'michael']\n"
     ]
    }
   ],
   "source": [
    "players = ['charles', 'martina', 'michael', 'florence', 'eli'] \n",
    "print(players[0:3])"
   ]
  },
  {
   "cell_type": "code",
   "execution_count": 116,
   "id": "a11aa0ca",
   "metadata": {},
   "outputs": [
    {
     "data": {
      "text/plain": [
       "['charles', 'martina', 'michael', 'florence', 'eli']"
      ]
     },
     "execution_count": 116,
     "metadata": {},
     "output_type": "execute_result"
    }
   ],
   "source": [
    "players"
   ]
  },
  {
   "cell_type": "code",
   "execution_count": 117,
   "id": "e1094ff0",
   "metadata": {},
   "outputs": [
    {
     "data": {
      "text/plain": [
       "['Ali', 'martina', 'michael', 'florence', 'eli']"
      ]
     },
     "execution_count": 117,
     "metadata": {},
     "output_type": "execute_result"
    }
   ],
   "source": [
    "players[0]='Ali'\n",
    "players"
   ]
  },
  {
   "cell_type": "code",
   "execution_count": 118,
   "id": "08faf528",
   "metadata": {},
   "outputs": [
    {
     "data": {
      "text/plain": [
       "['xyz', 'Ali', 'martina', 'michael', 'florence', 'eli']"
      ]
     },
     "execution_count": 118,
     "metadata": {},
     "output_type": "execute_result"
    }
   ],
   "source": [
    "players.insert(0,\"xyz\")\n",
    "players"
   ]
  },
  {
   "cell_type": "code",
   "execution_count": 119,
   "id": "900d8d72",
   "metadata": {},
   "outputs": [
    {
     "data": {
      "text/plain": [
       "['yz', 'xyz', 'Ali', 'martina', 'michael', 'florence', 'eli']"
      ]
     },
     "execution_count": 119,
     "metadata": {},
     "output_type": "execute_result"
    }
   ],
   "source": [
    "players.insert(0,\"yz\")\n",
    "players"
   ]
  },
  {
   "cell_type": "code",
   "execution_count": 124,
   "id": "9fa05aee",
   "metadata": {},
   "outputs": [
    {
     "data": {
      "text/plain": [
       "['Ali', 'martina', 'xy', 'michael', 'xy', 'florence', 'eli']"
      ]
     },
     "execution_count": 124,
     "metadata": {},
     "output_type": "execute_result"
    }
   ],
   "source": [
    "players.insert(4,\"xy\")\n",
    "players"
   ]
  },
  {
   "cell_type": "code",
   "execution_count": 125,
   "id": "f8f7ad63",
   "metadata": {},
   "outputs": [
    {
     "data": {
      "text/plain": [
       "'Ali'"
      ]
     },
     "execution_count": 125,
     "metadata": {},
     "output_type": "execute_result"
    }
   ],
   "source": [
    "players.pop(0)\n",
    "#players"
   ]
  },
  {
   "cell_type": "code",
   "execution_count": 126,
   "id": "0bedde8f",
   "metadata": {},
   "outputs": [
    {
     "data": {
      "text/plain": [
       "['martina', 'xy', 'michael', 'xy', 'florence', 'eli']"
      ]
     },
     "execution_count": 126,
     "metadata": {},
     "output_type": "execute_result"
    }
   ],
   "source": [
    "players"
   ]
  },
  {
   "cell_type": "code",
   "execution_count": 127,
   "id": "0357ea86",
   "metadata": {},
   "outputs": [
    {
     "data": {
      "text/plain": [
       "['martina', 'xy', 'michael', 'xy', 'florence']"
      ]
     },
     "execution_count": 127,
     "metadata": {},
     "output_type": "execute_result"
    }
   ],
   "source": [
    "players[:-1]"
   ]
  },
  {
   "cell_type": "code",
   "execution_count": 128,
   "id": "9c8fc8b0",
   "metadata": {},
   "outputs": [
    {
     "data": {
      "text/plain": [
       "['martina', 'xy', 'michael', 'xy']"
      ]
     },
     "execution_count": 128,
     "metadata": {},
     "output_type": "execute_result"
    }
   ],
   "source": [
    "players[:-2]"
   ]
  },
  {
   "cell_type": "code",
   "execution_count": 129,
   "id": "22c6a8d0",
   "metadata": {},
   "outputs": [
    {
     "data": {
      "text/plain": [
       "['eli', 'xy', 'xy']"
      ]
     },
     "execution_count": 129,
     "metadata": {},
     "output_type": "execute_result"
    }
   ],
   "source": [
    "players[::-2]"
   ]
  },
  {
   "cell_type": "code",
   "execution_count": 130,
   "id": "69992f48",
   "metadata": {},
   "outputs": [
    {
     "data": {
      "text/plain": [
       "['eli', 'florence', 'xy', 'michael', 'xy', 'martina']"
      ]
     },
     "execution_count": 130,
     "metadata": {},
     "output_type": "execute_result"
    }
   ],
   "source": [
    "players[::-1]"
   ]
  },
  {
   "cell_type": "code",
   "execution_count": 132,
   "id": "8cdf4832",
   "metadata": {},
   "outputs": [
    {
     "data": {
      "text/plain": [
       "['xy', 'michael', 'xy']"
      ]
     },
     "execution_count": 132,
     "metadata": {},
     "output_type": "execute_result"
    }
   ],
   "source": [
    "players[3:0:-1]"
   ]
  },
  {
   "cell_type": "code",
   "execution_count": 133,
   "id": "9dc4050a",
   "metadata": {},
   "outputs": [
    {
     "data": {
      "text/plain": [
       "[8, 7, 6, 5, 4, 3, 2, 1]"
      ]
     },
     "execution_count": 133,
     "metadata": {},
     "output_type": "execute_result"
    }
   ],
   "source": [
    "a=[1,2,3,4,5,6,7,8]\n",
    "a[::-1]"
   ]
  },
  {
   "cell_type": "code",
   "execution_count": 134,
   "id": "2548799f",
   "metadata": {},
   "outputs": [
    {
     "data": {
      "text/plain": [
       "[8, 6, 4, 2]"
      ]
     },
     "execution_count": 134,
     "metadata": {},
     "output_type": "execute_result"
    }
   ],
   "source": [
    "a[::-2]"
   ]
  },
  {
   "cell_type": "code",
   "execution_count": 135,
   "id": "f9e49856",
   "metadata": {},
   "outputs": [
    {
     "data": {
      "text/plain": [
       "[3, 2]"
      ]
     },
     "execution_count": 135,
     "metadata": {},
     "output_type": "execute_result"
    }
   ],
   "source": [
    "a[2:0:-1]"
   ]
  },
  {
   "cell_type": "code",
   "execution_count": 136,
   "id": "04ba66c7",
   "metadata": {},
   "outputs": [
    {
     "data": {
      "text/plain": [
       "[6, 5, 4, 3]"
      ]
     },
     "execution_count": 136,
     "metadata": {},
     "output_type": "execute_result"
    }
   ],
   "source": [
    "a[5:1:-1]"
   ]
  },
  {
   "cell_type": "code",
   "execution_count": 137,
   "id": "274b9f9a",
   "metadata": {},
   "outputs": [
    {
     "data": {
      "text/plain": [
       "[1, 2, 3, 4, 5, 6, 7, 8]"
      ]
     },
     "execution_count": 137,
     "metadata": {},
     "output_type": "execute_result"
    }
   ],
   "source": [
    "a[5:1:-1]\n",
    "a"
   ]
  },
  {
   "cell_type": "code",
   "execution_count": 138,
   "id": "8faf3aae",
   "metadata": {},
   "outputs": [
    {
     "data": {
      "text/plain": [
       "[6, 7, 8]"
      ]
     },
     "execution_count": 138,
     "metadata": {},
     "output_type": "execute_result"
    }
   ],
   "source": [
    "a[-3:]"
   ]
  },
  {
   "cell_type": "code",
   "execution_count": 139,
   "id": "1904a216",
   "metadata": {},
   "outputs": [
    {
     "data": {
      "text/plain": [
       "[1, 2, 3, 4, 5, 6, 7, 8]"
      ]
     },
     "execution_count": 139,
     "metadata": {},
     "output_type": "execute_result"
    }
   ],
   "source": [
    "a[-8:10]"
   ]
  },
  {
   "cell_type": "code",
   "execution_count": 140,
   "id": "0fb4c567",
   "metadata": {},
   "outputs": [
    {
     "data": {
      "text/plain": [
       "'D'"
      ]
     },
     "execution_count": 140,
     "metadata": {},
     "output_type": "execute_result"
    }
   ],
   "source": [
    "a=\"Dildar\"\n",
    "a[0]"
   ]
  },
  {
   "cell_type": "code",
   "execution_count": 141,
   "id": "1a557e34",
   "metadata": {},
   "outputs": [
    {
     "data": {
      "text/plain": [
       "'r'"
      ]
     },
     "execution_count": 141,
     "metadata": {},
     "output_type": "execute_result"
    }
   ],
   "source": [
    "a[-1:]"
   ]
  },
  {
   "cell_type": "code",
   "execution_count": 142,
   "id": "2081dcac",
   "metadata": {},
   "outputs": [
    {
     "data": {
      "text/plain": [
       "'radliD'"
      ]
     },
     "execution_count": 142,
     "metadata": {},
     "output_type": "execute_result"
    }
   ],
   "source": [
    "a[::-1]"
   ]
  },
  {
   "cell_type": "code",
   "execution_count": 143,
   "id": "2e74626c",
   "metadata": {},
   "outputs": [
    {
     "data": {
      "text/plain": [
       "'ldar'"
      ]
     },
     "execution_count": 143,
     "metadata": {},
     "output_type": "execute_result"
    }
   ],
   "source": [
    "a[2:]"
   ]
  },
  {
   "cell_type": "code",
   "execution_count": 144,
   "id": "938f0434",
   "metadata": {},
   "outputs": [
    {
     "ename": "AttributeError",
     "evalue": "'str' object has no attribute 'insert'",
     "output_type": "error",
     "traceback": [
      "\u001b[1;31m---------------------------------------------------------------------------\u001b[0m",
      "\u001b[1;31mAttributeError\u001b[0m                            Traceback (most recent call last)",
      "Input \u001b[1;32mIn [144]\u001b[0m, in \u001b[0;36m<cell line: 1>\u001b[1;34m()\u001b[0m\n\u001b[1;32m----> 1\u001b[0m \u001b[43ma\u001b[49m\u001b[38;5;241;43m.\u001b[39;49m\u001b[43minsert\u001b[49m(\u001b[38;5;241m0\u001b[39m,\u001b[38;5;124m'\u001b[39m\u001b[38;5;124ms\u001b[39m\u001b[38;5;124m'\u001b[39m)\n",
      "\u001b[1;31mAttributeError\u001b[0m: 'str' object has no attribute 'insert'"
     ]
    }
   ],
   "source": [
    "a.insert(0,'s')"
   ]
  },
  {
   "cell_type": "code",
   "execution_count": 146,
   "id": "4e8357d2",
   "metadata": {},
   "outputs": [
    {
     "data": {
      "text/plain": [
       "[5, 6, 7, 8]"
      ]
     },
     "execution_count": 146,
     "metadata": {},
     "output_type": "execute_result"
    }
   ],
   "source": [
    "a=[2,4,5,6,7,8]\n",
    "a[2::]"
   ]
  },
  {
   "cell_type": "code",
   "execution_count": 147,
   "id": "1976f9f8",
   "metadata": {},
   "outputs": [
    {
     "data": {
      "text/plain": [
       "[2, 4, 5, 6, 7, 8]"
      ]
     },
     "execution_count": 147,
     "metadata": {},
     "output_type": "execute_result"
    }
   ],
   "source": [
    "a[::]"
   ]
  },
  {
   "cell_type": "code",
   "execution_count": 148,
   "id": "cc1fc8dd",
   "metadata": {},
   "outputs": [
    {
     "data": {
      "text/plain": [
       "[2, 4]"
      ]
     },
     "execution_count": 148,
     "metadata": {},
     "output_type": "execute_result"
    }
   ],
   "source": [
    "a[:2:]"
   ]
  },
  {
   "cell_type": "code",
   "execution_count": 151,
   "id": "92d4f60d",
   "metadata": {},
   "outputs": [
    {
     "data": {
      "text/plain": [
       "[8]"
      ]
     },
     "execution_count": 151,
     "metadata": {},
     "output_type": "execute_result"
    }
   ],
   "source": [
    "a[-1::]"
   ]
  },
  {
   "cell_type": "code",
   "execution_count": 156,
   "id": "b46a9058",
   "metadata": {},
   "outputs": [
    {
     "data": {
      "text/plain": [
       "[]"
      ]
     },
     "execution_count": 156,
     "metadata": {},
     "output_type": "execute_result"
    }
   ],
   "source": [
    "a[-1:-10]"
   ]
  },
  {
   "cell_type": "code",
   "execution_count": 158,
   "id": "9a61e276",
   "metadata": {},
   "outputs": [
    {
     "data": {
      "text/plain": [
       "[2, 4, 5, 6, 7, 8]"
      ]
     },
     "execution_count": 158,
     "metadata": {},
     "output_type": "execute_result"
    }
   ],
   "source": [
    "a[-8:]"
   ]
  },
  {
   "cell_type": "code",
   "execution_count": 159,
   "id": "b5980263",
   "metadata": {},
   "outputs": [
    {
     "ename": "IndexError",
     "evalue": "list index out of range",
     "output_type": "error",
     "traceback": [
      "\u001b[1;31m---------------------------------------------------------------------------\u001b[0m",
      "\u001b[1;31mIndexError\u001b[0m                                Traceback (most recent call last)",
      "Input \u001b[1;32mIn [159]\u001b[0m, in \u001b[0;36m<cell line: 1>\u001b[1;34m()\u001b[0m\n\u001b[1;32m----> 1\u001b[0m \u001b[43ma\u001b[49m\u001b[43m[\u001b[49m\u001b[38;5;241;43m-\u001b[39;49m\u001b[38;5;241;43m8\u001b[39;49m\u001b[43m]\u001b[49m\n",
      "\u001b[1;31mIndexError\u001b[0m: list index out of range"
     ]
    }
   ],
   "source": [
    "a[-8]"
   ]
  },
  {
   "cell_type": "code",
   "execution_count": 160,
   "id": "6950aeef",
   "metadata": {},
   "outputs": [
    {
     "data": {
      "text/plain": [
       "(1, 2, 3)"
      ]
     },
     "execution_count": 160,
     "metadata": {},
     "output_type": "execute_result"
    }
   ],
   "source": [
    "a=(1,2,3)\n",
    "a"
   ]
  },
  {
   "cell_type": "code",
   "execution_count": 161,
   "id": "6cb4ccba",
   "metadata": {},
   "outputs": [
    {
     "ename": "AttributeError",
     "evalue": "'tuple' object has no attribute 'pop'",
     "output_type": "error",
     "traceback": [
      "\u001b[1;31m---------------------------------------------------------------------------\u001b[0m",
      "\u001b[1;31mAttributeError\u001b[0m                            Traceback (most recent call last)",
      "Input \u001b[1;32mIn [161]\u001b[0m, in \u001b[0;36m<cell line: 1>\u001b[1;34m()\u001b[0m\n\u001b[1;32m----> 1\u001b[0m \u001b[43ma\u001b[49m\u001b[38;5;241;43m.\u001b[39;49m\u001b[43mpop\u001b[49m()\n",
      "\u001b[1;31mAttributeError\u001b[0m: 'tuple' object has no attribute 'pop'"
     ]
    }
   ],
   "source": [
    "a.pop()"
   ]
  },
  {
   "cell_type": "code",
   "execution_count": 162,
   "id": "e9811f7b",
   "metadata": {},
   "outputs": [
    {
     "ename": "AttributeError",
     "evalue": "'tuple' object has no attribute 'insert'",
     "output_type": "error",
     "traceback": [
      "\u001b[1;31m---------------------------------------------------------------------------\u001b[0m",
      "\u001b[1;31mAttributeError\u001b[0m                            Traceback (most recent call last)",
      "Input \u001b[1;32mIn [162]\u001b[0m, in \u001b[0;36m<cell line: 1>\u001b[1;34m()\u001b[0m\n\u001b[1;32m----> 1\u001b[0m \u001b[43ma\u001b[49m\u001b[38;5;241;43m.\u001b[39;49m\u001b[43minsert\u001b[49m(\u001b[38;5;241m0\u001b[39m,\u001b[38;5;241m2\u001b[39m)\n",
      "\u001b[1;31mAttributeError\u001b[0m: 'tuple' object has no attribute 'insert'"
     ]
    }
   ],
   "source": [
    "a.insert(0,2)"
   ]
  },
  {
   "cell_type": "code",
   "execution_count": 163,
   "id": "49b5e18e",
   "metadata": {},
   "outputs": [
    {
     "data": {
      "text/plain": [
       "1"
      ]
     },
     "execution_count": 163,
     "metadata": {},
     "output_type": "execute_result"
    }
   ],
   "source": [
    "a[0]"
   ]
  },
  {
   "cell_type": "code",
   "execution_count": 164,
   "id": "2bba1321",
   "metadata": {},
   "outputs": [
    {
     "ename": "TypeError",
     "evalue": "'tuple' object does not support item assignment",
     "output_type": "error",
     "traceback": [
      "\u001b[1;31m---------------------------------------------------------------------------\u001b[0m",
      "\u001b[1;31mTypeError\u001b[0m                                 Traceback (most recent call last)",
      "Input \u001b[1;32mIn [164]\u001b[0m, in \u001b[0;36m<cell line: 1>\u001b[1;34m()\u001b[0m\n\u001b[1;32m----> 1\u001b[0m a[\u001b[38;5;241m0\u001b[39m]\u001b[38;5;241m=\u001b[39m\u001b[38;5;124m\"\u001b[39m\u001b[38;5;124mAli\u001b[39m\u001b[38;5;124m\"\u001b[39m\n",
      "\u001b[1;31mTypeError\u001b[0m: 'tuple' object does not support item assignment"
     ]
    }
   ],
   "source": [
    "a[0]=\"Ali\""
   ]
  },
  {
   "cell_type": "markdown",
   "id": "4ff3756b",
   "metadata": {},
   "source": [
    "# Chapter#05"
   ]
  },
  {
   "cell_type": "code",
   "execution_count": 165,
   "id": "bb11050f",
   "metadata": {},
   "outputs": [
    {
     "name": "stdout",
     "output_type": "stream",
     "text": [
      "Audi\n",
      "BMW\n",
      "Subaru\n",
      "Toyota\n"
     ]
    }
   ],
   "source": [
    "cars = ['audi', 'bmw', 'subaru', 'toyota']\n",
    "for car in cars:\n",
    "     if car == 'bmw':\n",
    "             print(car.upper())\n",
    "     else:\n",
    "         print(car.title())"
   ]
  },
  {
   "cell_type": "code",
   "execution_count": 166,
   "id": "8050d101",
   "metadata": {},
   "outputs": [
    {
     "data": {
      "text/plain": [
       "True"
      ]
     },
     "execution_count": 166,
     "metadata": {},
     "output_type": "execute_result"
    }
   ],
   "source": [
    "names=[\"Bilal\",\"Dildar\",\"Ali\"]\n",
    "\"Dildar\" in names"
   ]
  },
  {
   "cell_type": "code",
   "execution_count": 167,
   "id": "52a0ab27",
   "metadata": {},
   "outputs": [
    {
     "name": "stdout",
     "output_type": "stream",
     "text": [
      "Ali Let's go to party!\n"
     ]
    }
   ],
   "source": [
    "brothers=[\"Ghulam\",\"Khadim\",\"Yameen\"]\n",
    "friend=\"ali\"\n",
    "if friend not in brothers:\n",
    "    print(friend.title(),\"Let's go to party!\")"
   ]
  },
  {
   "cell_type": "code",
   "execution_count": 168,
   "id": "9f069079",
   "metadata": {},
   "outputs": [
    {
     "name": "stdout",
     "output_type": "stream",
     "text": [
      "Is car == 'Suzuki'? I predict True.\n",
      "True\n",
      "\n",
      "Is car == 'audi'? I predict False.\n",
      "False\n"
     ]
    }
   ],
   "source": [
    "car = 'Suzuki'\n",
    "print(\"Is car == 'Suzuki'? I predict True.\")\n",
    "print(car == 'Suzuki')\n",
    "\n",
    "print(\"\\nIs car == 'audi'? I predict False.\")\n",
    "print(car == 'audi')"
   ]
  },
  {
   "cell_type": "code",
   "execution_count": 169,
   "id": "0267b9b8",
   "metadata": {},
   "outputs": [
    {
     "name": "stdout",
     "output_type": "stream",
     "text": [
      "You are old enough to vote!\n",
      "Have you registered for vote yet?\n"
     ]
    }
   ],
   "source": [
    "age=20\n",
    "if age>=18:\n",
    "    print(\"You are old enough to vote!\")\n",
    "    print(\"Have you registered for vote yet?\")\n",
    "else:\n",
    "    print(\"You are too young to vote!\")\n",
    "    print(\"Please registere for vote as soon as possible\")"
   ]
  },
  {
   "cell_type": "code",
   "execution_count": 170,
   "id": "ffaabd25",
   "metadata": {},
   "outputs": [
    {
     "name": "stdout",
     "output_type": "stream",
     "text": [
      "Your addmission cost is $5\n"
     ]
    }
   ],
   "source": [
    "age=15\n",
    "if age<4:\n",
    "    print(\"Your addmission cost is $0\")\n",
    "elif age<18:\n",
    "    print(\"Your addmission cost is $5\")\n",
    "else:\n",
    "    print(\"Your addmission cost is $10\")"
   ]
  },
  {
   "cell_type": "code",
   "execution_count": 171,
   "id": "cffbef02",
   "metadata": {},
   "outputs": [
    {
     "name": "stdout",
     "output_type": "stream",
     "text": [
      "Your admission cost is $5.\n"
     ]
    }
   ],
   "source": [
    "age=15\n",
    "price=0\n",
    "if age<4:\n",
    "    price=0\n",
    "elif age<18:\n",
    "    price=5\n",
    "else:\n",
    "    price=10\n",
    "    \n",
    "print(\"Your admission cost is $\"+str(price)+\".\")   "
   ]
  },
  {
   "cell_type": "code",
   "execution_count": 172,
   "id": "307a0222",
   "metadata": {},
   "outputs": [
    {
     "name": "stdout",
     "output_type": "stream",
     "text": [
      "Adding mushrooms.\n",
      "\n",
      "Finished making your pizza!\n"
     ]
    }
   ],
   "source": [
    "requested_toppings = ['mushrooms', 'extra cheese']\n",
    "if 'mushrooms' in requested_toppings:\n",
    "     print(\"Adding mushrooms.\")\n",
    "elif 'pepperoni' in requested_toppings:\n",
    "     print(\"Adding pepperoni.\")\n",
    "elif 'extra cheese' in requested_toppings:\n",
    "     print(\"Adding extra cheese.\")\n",
    " \n",
    "print(\"\\nFinished making your pizza!\")"
   ]
  },
  {
   "cell_type": "code",
   "execution_count": 173,
   "id": "9c20bc6e",
   "metadata": {},
   "outputs": [
    {
     "name": "stdout",
     "output_type": "stream",
     "text": [
      "Adding mushrooms.\n",
      "Adding extra cheese.\n",
      "\n",
      "Finished making your pizza!\n"
     ]
    }
   ],
   "source": [
    "requested_toppings = ['mushrooms', 'extra cheese']\n",
    "if 'mushrooms' in requested_toppings:\n",
    "     print(\"Adding mushrooms.\")\n",
    "if 'pepperoni' in requested_toppings:\n",
    "     print(\"Adding pepperoni.\")\n",
    "if 'extra cheese' in requested_toppings:\n",
    "     print(\"Adding extra cheese.\")\n",
    " \n",
    "print(\"\\nFinished making your pizza!\")"
   ]
  },
  {
   "cell_type": "code",
   "execution_count": 174,
   "id": "c62978ed",
   "metadata": {},
   "outputs": [
    {
     "name": "stdout",
     "output_type": "stream",
     "text": [
      "Player just earned 5 points for shooting the alien!\n",
      "Player just earned 10 points\n",
      "Player just earned 15 points\n"
     ]
    }
   ],
   "source": [
    "alien_color=['green','yellow','red']\n",
    "if \"green\" in alien_color:\n",
    "    print(\"Player just earned 5 points for shooting the alien!\")\n",
    "if \"yellow\" in alien_color:    \n",
    "    print(\"Player just earned 10 points\")\n",
    "if \"red\" in alien_color:    \n",
    "    print(\"Player just earned 15 points\")    "
   ]
  },
  {
   "cell_type": "code",
   "execution_count": 175,
   "id": "254cd338",
   "metadata": {},
   "outputs": [
    {
     "name": "stdout",
     "output_type": "stream",
     "text": [
      "You are a adult.\n"
     ]
    }
   ],
   "source": [
    "age=23\n",
    "if age<2:\n",
    "    print(\"You are a baby.\")\n",
    "elif age<=2 or age<4:\n",
    "    print(\"You are a toddler.\")\n",
    "elif age<=4 or age<13:\n",
    "    print(\"You are a kid.\")\n",
    "elif age<=13 or age<20:\n",
    "    print(\"You are a teenager.\")    \n",
    "elif age<=20 or age<65:\n",
    "    print(\"You are a adult.\")  \n",
    "else:\n",
    "    print(\"You are a elder.\")   "
   ]
  },
  {
   "cell_type": "code",
   "execution_count": 177,
   "id": "7f885507",
   "metadata": {},
   "outputs": [
    {
     "name": "stdout",
     "output_type": "stream",
     "text": [
      "you are a adult\n"
     ]
    }
   ],
   "source": [
    "age=23\n",
    "stage=0\n",
    "if age<2:\n",
    "    stage='Baby'\n",
    "elif age<=2 or age<4:\n",
    "    stage=\"toddler\"\n",
    "elif age<=4 or age<13:\n",
    "    stage='kid'\n",
    "elif age<=13 or age<20:\n",
    "    stage='teenager'    \n",
    "elif age<=20 or age<65:\n",
    "    stage='adult'  \n",
    "else:\n",
    "     stage=\"elder\"\n",
    "        \n",
    "print(f\"you are a {stage}\")        "
   ]
  },
  {
   "cell_type": "code",
   "execution_count": 178,
   "id": "f2ad381b",
   "metadata": {},
   "outputs": [
    {
     "name": "stdout",
     "output_type": "stream",
     "text": [
      "Adding mushrooms.\n",
      "Adding green peppers.\n",
      "Adding extra cheese.\n",
      "Adding kabab.\n",
      "\n",
      "Finished making your pizza!\n"
     ]
    }
   ],
   "source": [
    "requested_toppings = ['mushrooms', 'green peppers', 'extra cheese',\"kabab\"]\n",
    "for requested_topping in requested_toppings:\n",
    " print(\"Adding \" + requested_topping + \".\")\n",
    "print(\"\\nFinished making your pizza!\")"
   ]
  },
  {
   "cell_type": "code",
   "execution_count": 179,
   "id": "33620fa1",
   "metadata": {},
   "outputs": [
    {
     "name": "stdout",
     "output_type": "stream",
     "text": [
      "Adding mushrooms.\n",
      "Sorry, we are out of green peppers right now!!\n",
      "Adding extra cheese.\n",
      "Adding kabab.\n",
      "\n",
      "Finished making your pizza!\n"
     ]
    }
   ],
   "source": [
    "requested_toppings = ['mushrooms', 'green peppers', 'extra cheese',\"kabab\"]\n",
    "for requested_topping in requested_toppings:\n",
    "    if requested_topping==\"green peppers\":\n",
    "        print(\"Sorry, we are out of green peppers right now!!\")\n",
    "    else:    \n",
    "         print(\"Adding \" + requested_topping + \".\")\n",
    "print(\"\\nFinished making your pizza!\")"
   ]
  },
  {
   "cell_type": "code",
   "execution_count": 180,
   "id": "ebc3817b",
   "metadata": {},
   "outputs": [
    {
     "name": "stdout",
     "output_type": "stream",
     "text": [
      "Adding mushrooms.\n",
      "Sorry we don't havefrench fries.\n",
      "Adding extra cheese.\n",
      "\n",
      "Finished making your pizza!\n"
     ]
    }
   ],
   "source": [
    "available_toppings = ['mushrooms', 'olives', 'green peppers', 'pepperoni', 'pineapple', 'extra cheese']\n",
    "requested_toppings = ['mushrooms', 'french fries', 'extra cheese']\n",
    "for requested_topping in requested_toppings:\n",
    "    if requested_topping in available_toppings:    \n",
    "                    print(\"Adding \"+requested_topping+\".\") \n",
    "    else:\n",
    "        print(\"Sorry we don't have\"+requested_topping+\".\")\n",
    "print(\"\\nFinished making your pizza!\")        "
   ]
  },
  {
   "cell_type": "code",
   "execution_count": 181,
   "id": "ef2f80ea",
   "metadata": {},
   "outputs": [
    {
     "name": "stdout",
     "output_type": "stream",
     "text": [
      "Hello Dildar, thank you for logging in again!\n",
      "Hello Ali, thank you for logging in again!\n",
      "Hello Asad, thank you for logging in again!\n",
      "Hello Admin, would you like to see a status report?\n",
      "Hello Aamir, thank you for logging in again!\n"
     ]
    }
   ],
   "source": [
    "user_name=[\"Dildar\",\"Ali\",'Asad',\"Admin\",\"Aamir\"]\n",
    "for names in user_name:\n",
    "    if names==\"Admin\":\n",
    "        print(\"Hello Admin, would you like to see a status report?\")\n",
    "    else:\n",
    "        print('Hello '+names.title()+\", thank you for logging in again!\")"
   ]
  },
  {
   "cell_type": "code",
   "execution_count": 182,
   "id": "3dcbd9a9",
   "metadata": {},
   "outputs": [
    {
     "name": "stdout",
     "output_type": "stream",
     "text": [
      "Ali is available.\n",
      "Asad is available.\n",
      "Need to enter Dildar in new username.\n",
      "Need to enter Bilal in new username.\n",
      "Nasir is available.\n"
     ]
    }
   ],
   "source": [
    "current_users=[\"Dildar\",\"Yameen\",\"Khadim\",\"Bilal\",\"Aamir\"]\n",
    "new_users=[\"Ali\",\"Asad\",\"Dildar\",\"Bilal\",\"Nasir\"]\n",
    "for names in new_users:\n",
    "    if names in current_users:\n",
    "        print(\"Need to enter \"+names+\" in new username.\")\n",
    "    else:\n",
    "        print(names+\" is available.\")"
   ]
  },
  {
   "cell_type": "code",
   "execution_count": 183,
   "id": "630bc23f",
   "metadata": {},
   "outputs": [
    {
     "name": "stdout",
     "output_type": "stream",
     "text": [
      "1st\n",
      "2nd\n",
      "3rd\n",
      "4th\n",
      "5th\n",
      "6th\n",
      "7th\n",
      "8th\n",
      "9th\n"
     ]
    }
   ],
   "source": [
    "numbers = list(range(1,10))\n",
    "\n",
    "for number in numbers:\n",
    "    if number == 1:\n",
    "        print(\"1st\")\n",
    "    elif number == 2:\n",
    "        print(\"2nd\")\n",
    "    elif number == 3:\n",
    "        print(\"3rd\")\n",
    "    else:\n",
    "        print(str(number) + \"th\")"
   ]
  },
  {
   "cell_type": "markdown",
   "id": "3345cc0e",
   "metadata": {},
   "source": [
    "# Chpter#06"
   ]
  },
  {
   "cell_type": "code",
   "execution_count": 184,
   "id": "1c3ddc1a",
   "metadata": {},
   "outputs": [
    {
     "name": "stdout",
     "output_type": "stream",
     "text": [
      "green\n",
      "5\n"
     ]
    }
   ],
   "source": [
    "alien_0 = {'color': 'green', 'points': 5}\n",
    "print(alien_0[\"color\"])\n",
    "print(alien_0[\"points\"])"
   ]
  },
  {
   "cell_type": "code",
   "execution_count": 189,
   "id": "aa336a43",
   "metadata": {},
   "outputs": [
    {
     "data": {
      "text/plain": [
       "{'color': 'black'}"
      ]
     },
     "execution_count": 189,
     "metadata": {},
     "output_type": "execute_result"
    }
   ],
   "source": [
    "alien_0['color']=\"black\"\n",
    "alien_0"
   ]
  },
  {
   "cell_type": "code",
   "execution_count": 190,
   "id": "61b64395",
   "metadata": {},
   "outputs": [
    {
     "data": {
      "text/plain": [
       "{'color': 'black', 'points': 1860}"
      ]
     },
     "execution_count": 190,
     "metadata": {},
     "output_type": "execute_result"
    }
   ],
   "source": [
    "alien_0['points']=1860\n",
    "alien_0"
   ]
  },
  {
   "cell_type": "code",
   "execution_count": 185,
   "id": "acc4bf61",
   "metadata": {},
   "outputs": [
    {
     "name": "stdout",
     "output_type": "stream",
     "text": [
      "green\n"
     ]
    }
   ],
   "source": [
    "alien_0 = {'color': 'green'}\n",
    "print(alien_0['color'])"
   ]
  },
  {
   "cell_type": "code",
   "execution_count": 191,
   "id": "469a1aca",
   "metadata": {},
   "outputs": [
    {
     "data": {
      "text/plain": [
       "{'color': 'black', 'points': 1860, 1: 'ali'}"
      ]
     },
     "execution_count": 191,
     "metadata": {},
     "output_type": "execute_result"
    }
   ],
   "source": [
    "alien_0[1]='ali'\n",
    "alien_0    "
   ]
  },
  {
   "cell_type": "code",
   "execution_count": 192,
   "id": "65d95869",
   "metadata": {},
   "outputs": [
    {
     "name": "stdout",
     "output_type": "stream",
     "text": [
      "You just earned 5 points!\n"
     ]
    }
   ],
   "source": [
    "alien_0 = {'color': 'green', 'points': 5}\n",
    "new_points = alien_0['points']\n",
    "print(\"You just earned \" + str(new_points) + \" points!\")"
   ]
  },
  {
   "cell_type": "code",
   "execution_count": 193,
   "id": "092541bc",
   "metadata": {},
   "outputs": [
    {
     "name": "stdout",
     "output_type": "stream",
     "text": [
      "You just earned 5 points!\n"
     ]
    }
   ],
   "source": [
    "alien_0 = {'color': 'green', 'points': 5}\n",
    "#new_points = alien_0['points']\n",
    "print(\"You just earned \" + str(alien_0['points']) + \" points!\")"
   ]
  },
  {
   "cell_type": "code",
   "execution_count": 195,
   "id": "c4172b1f",
   "metadata": {},
   "outputs": [
    {
     "name": "stdout",
     "output_type": "stream",
     "text": [
      "{'color': 'green', 'points': 5, 'name': 'Dildar'}\n"
     ]
    }
   ],
   "source": [
    "alien_0 = {}\n",
    "alien_0['color'] = 'green'\n",
    "alien_0['points'] = 5\n",
    "alien_0[\"name\"]='Dildar'\n",
    "print(alien_0)"
   ]
  },
  {
   "cell_type": "code",
   "execution_count": 196,
   "id": "0805d8a8",
   "metadata": {},
   "outputs": [
    {
     "ename": "TypeError",
     "evalue": "'tuple' object does not support item assignment",
     "output_type": "error",
     "traceback": [
      "\u001b[1;31m---------------------------------------------------------------------------\u001b[0m",
      "\u001b[1;31mTypeError\u001b[0m                                 Traceback (most recent call last)",
      "Input \u001b[1;32mIn [196]\u001b[0m, in \u001b[0;36m<cell line: 2>\u001b[1;34m()\u001b[0m\n\u001b[0;32m      1\u001b[0m alien_0 \u001b[38;5;241m=\u001b[39m ()\n\u001b[1;32m----> 2\u001b[0m alien_0[\u001b[38;5;124m'\u001b[39m\u001b[38;5;124mcolor\u001b[39m\u001b[38;5;124m'\u001b[39m] \u001b[38;5;241m=\u001b[39m \u001b[38;5;124m'\u001b[39m\u001b[38;5;124mgreen\u001b[39m\u001b[38;5;124m'\u001b[39m\n\u001b[0;32m      3\u001b[0m alien_0[\u001b[38;5;124m'\u001b[39m\u001b[38;5;124mpoints\u001b[39m\u001b[38;5;124m'\u001b[39m] \u001b[38;5;241m=\u001b[39m \u001b[38;5;241m5\u001b[39m\n\u001b[0;32m      4\u001b[0m \u001b[38;5;28mprint\u001b[39m(alien_0)\n",
      "\u001b[1;31mTypeError\u001b[0m: 'tuple' object does not support item assignment"
     ]
    }
   ],
   "source": [
    "alien_0 = ()\n",
    "alien_0['color'] = 'green'\n",
    "alien_0['points'] = 5\n",
    "print(alien_0)"
   ]
  },
  {
   "cell_type": "code",
   "execution_count": 197,
   "id": "5a6f21ba",
   "metadata": {},
   "outputs": [
    {
     "ename": "TypeError",
     "evalue": "list indices must be integers or slices, not str",
     "output_type": "error",
     "traceback": [
      "\u001b[1;31m---------------------------------------------------------------------------\u001b[0m",
      "\u001b[1;31mTypeError\u001b[0m                                 Traceback (most recent call last)",
      "Input \u001b[1;32mIn [197]\u001b[0m, in \u001b[0;36m<cell line: 2>\u001b[1;34m()\u001b[0m\n\u001b[0;32m      1\u001b[0m alien_0 \u001b[38;5;241m=\u001b[39m []\n\u001b[1;32m----> 2\u001b[0m alien_0[\u001b[38;5;124m'\u001b[39m\u001b[38;5;124mcolor\u001b[39m\u001b[38;5;124m'\u001b[39m] \u001b[38;5;241m=\u001b[39m \u001b[38;5;124m'\u001b[39m\u001b[38;5;124mgreen\u001b[39m\u001b[38;5;124m'\u001b[39m\n\u001b[0;32m      3\u001b[0m alien_0[\u001b[38;5;124m'\u001b[39m\u001b[38;5;124mpoints\u001b[39m\u001b[38;5;124m'\u001b[39m] \u001b[38;5;241m=\u001b[39m \u001b[38;5;241m5\u001b[39m\n\u001b[0;32m      4\u001b[0m \u001b[38;5;28mprint\u001b[39m(alien_0)\n",
      "\u001b[1;31mTypeError\u001b[0m: list indices must be integers or slices, not str"
     ]
    }
   ],
   "source": [
    "alien_0 = []\n",
    "alien_0['color'] = 'green'\n",
    "alien_0['points'] = 5\n",
    "print(alien_0)"
   ]
  },
  {
   "cell_type": "code",
   "execution_count": 198,
   "id": "db881d5a",
   "metadata": {},
   "outputs": [
    {
     "ename": "TypeError",
     "evalue": "'int' object does not support item assignment",
     "output_type": "error",
     "traceback": [
      "\u001b[1;31m---------------------------------------------------------------------------\u001b[0m",
      "\u001b[1;31mTypeError\u001b[0m                                 Traceback (most recent call last)",
      "Input \u001b[1;32mIn [198]\u001b[0m, in \u001b[0;36m<cell line: 2>\u001b[1;34m()\u001b[0m\n\u001b[0;32m      1\u001b[0m alien_0 \u001b[38;5;241m=\u001b[39m \u001b[38;5;241m0\u001b[39m\n\u001b[1;32m----> 2\u001b[0m alien_0[\u001b[38;5;124m'\u001b[39m\u001b[38;5;124mcolor\u001b[39m\u001b[38;5;124m'\u001b[39m] \u001b[38;5;241m=\u001b[39m \u001b[38;5;124m'\u001b[39m\u001b[38;5;124mgreen\u001b[39m\u001b[38;5;124m'\u001b[39m\n\u001b[0;32m      3\u001b[0m alien_0[\u001b[38;5;124m'\u001b[39m\u001b[38;5;124mpoints\u001b[39m\u001b[38;5;124m'\u001b[39m] \u001b[38;5;241m=\u001b[39m \u001b[38;5;241m5\u001b[39m\n\u001b[0;32m      4\u001b[0m \u001b[38;5;28mprint\u001b[39m(alien_0)\n",
      "\u001b[1;31mTypeError\u001b[0m: 'int' object does not support item assignment"
     ]
    }
   ],
   "source": [
    "alien_0 = 0\n",
    "alien_0['color'] = 'green'\n",
    "alien_0['points'] = 5\n",
    "print(alien_0)"
   ]
  },
  {
   "cell_type": "code",
   "execution_count": 199,
   "id": "8d5de0dc",
   "metadata": {},
   "outputs": [
    {
     "name": "stdout",
     "output_type": "stream",
     "text": [
      "Original x-position: 0\n",
      "New x-position: 2\n"
     ]
    }
   ],
   "source": [
    "alien_0 = {'x_position': 0, 'y_position': 25, 'speed': 'medium'}\n",
    "print(\"Original x-position: \" + str(alien_0['x_position']))\n",
    "\n",
    "if alien_0['speed'] == 'slow':\n",
    " x_increment = 1\n",
    "elif alien_0['speed'] == 'medium':\n",
    " x_increment = 2\n",
    "else:\n",
    " x_increment = 3\n",
    "\n",
    "alien_0['x_position'] = alien_0['x_position'] + x_increment\n",
    "print(\"New x-position: \" + str(alien_0['x_position']))"
   ]
  },
  {
   "cell_type": "code",
   "execution_count": 200,
   "id": "bafdf5a1",
   "metadata": {},
   "outputs": [
    {
     "data": {
      "text/plain": [
       "{'x_position': 2, 'y_position': 25, 'speed': 'medium'}"
      ]
     },
     "execution_count": 200,
     "metadata": {},
     "output_type": "execute_result"
    }
   ],
   "source": [
    "alien_0"
   ]
  },
  {
   "cell_type": "code",
   "execution_count": 201,
   "id": "85677570",
   "metadata": {},
   "outputs": [],
   "source": [
    "del alien_0[\"x_position\"]"
   ]
  },
  {
   "cell_type": "code",
   "execution_count": 202,
   "id": "f6325292",
   "metadata": {},
   "outputs": [
    {
     "data": {
      "text/plain": [
       "{'y_position': 25, 'speed': 'medium'}"
      ]
     },
     "execution_count": 202,
     "metadata": {},
     "output_type": "execute_result"
    }
   ],
   "source": [
    "alien_0"
   ]
  },
  {
   "cell_type": "code",
   "execution_count": 203,
   "id": "9607a26d",
   "metadata": {},
   "outputs": [
    {
     "data": {
      "text/plain": [
       "{'y_position': 25, 'speed': 'medium', '90': 100}"
      ]
     },
     "execution_count": 203,
     "metadata": {},
     "output_type": "execute_result"
    }
   ],
   "source": [
    "alien_0['90']=100\n",
    "alien_0"
   ]
  },
  {
   "cell_type": "code",
   "execution_count": 204,
   "id": "66538853",
   "metadata": {},
   "outputs": [
    {
     "name": "stdout",
     "output_type": "stream",
     "text": [
      "Sarah's favorite language is C.\n"
     ]
    }
   ],
   "source": [
    "favorite_languages = {\n",
    " 'jen': 'python',\n",
    " 'sarah': 'c',\n",
    " 'edward': 'ruby',\n",
    " 'phil': 'python',\n",
    " }\n",
    "print(\"Sarah's favorite language is \" +favorite_languages['sarah'].title() + \".\")"
   ]
  },
  {
   "cell_type": "code",
   "execution_count": 205,
   "id": "a607eaa0",
   "metadata": {},
   "outputs": [
    {
     "name": "stdout",
     "output_type": "stream",
     "text": [
      "jen -> python\n",
      "sarah -> c\n",
      "edward -> ruby\n",
      "phil -> python\n"
     ]
    }
   ],
   "source": [
    "for name,language in favorite_languages.items():\n",
    "    print(name+\" -> \"+language)"
   ]
  },
  {
   "cell_type": "code",
   "execution_count": 206,
   "id": "66f1b691",
   "metadata": {},
   "outputs": [
    {
     "name": "stdout",
     "output_type": "stream",
     "text": [
      "Fisrt name: Dildar\n",
      "Last name: Ali\n",
      "Age: 22\n",
      "City: Karachi\n"
     ]
    }
   ],
   "source": [
    "\n",
    "information={\"First_name\":\"Dildar\",\"Last_name\":\"Ali\",\"Age\":22,\"City\":\"Karachi\"}\n",
    "\n",
    "print(\"Fisrt name: \"+information['First_name'])\n",
    "print(\"Last name: \"+information['Last_name'])\n",
    "print(\"Age: \"+str(information['Age']))\n",
    "print(\"City: \"+information['City'])"
   ]
  },
  {
   "cell_type": "code",
   "execution_count": 209,
   "id": "5e8aa825",
   "metadata": {},
   "outputs": [
    {
     "name": "stdout",
     "output_type": "stream",
     "text": [
      "First_name : Dildar\n",
      "Last_name : Ali\n",
      "Age : 22\n",
      "City : Karachi\n"
     ]
    }
   ],
   "source": [
    "\n",
    "information={\"First_name\":\"Dildar\",\"Last_name\":\"Ali\",\"Age\":22,\"City\":\"Karachi\"}\n",
    "for a,b in information.items():\n",
    "    print(a,\":\",b)"
   ]
  },
  {
   "cell_type": "code",
   "execution_count": 210,
   "id": "2ad18ee5",
   "metadata": {},
   "outputs": [
    {
     "name": "stdout",
     "output_type": "stream",
     "text": [
      "Dildar's favorite number is: 1860\n",
      "Ali's favorite number is: 123\n",
      "Asad's favorite number is: 786\n",
      "Nasir's favorite number is: 736\n",
      "Bilal's favorite number is: 456\n"
     ]
    }
   ],
   "source": [
    "names={\"Dildar\":1860,\"Ali\":123,\"Asad\":786,\"Nasir\":736,\"Bilal\":456}\n",
    "for name,favourite_number in names.items():\n",
    "    print(name.title()+\"'s favorite number is: \"+str(favourite_number))"
   ]
  },
  {
   "cell_type": "code",
   "execution_count": 213,
   "id": "2202ee69",
   "metadata": {},
   "outputs": [
    {
     "ename": "TypeError",
     "evalue": "can only concatenate str (not \"int\") to str",
     "output_type": "error",
     "traceback": [
      "\u001b[1;31m---------------------------------------------------------------------------\u001b[0m",
      "\u001b[1;31mTypeError\u001b[0m                                 Traceback (most recent call last)",
      "Input \u001b[1;32mIn [213]\u001b[0m, in \u001b[0;36m<cell line: 2>\u001b[1;34m()\u001b[0m\n\u001b[0;32m      1\u001b[0m names\u001b[38;5;241m=\u001b[39m{\u001b[38;5;124m\"\u001b[39m\u001b[38;5;124mDildar\u001b[39m\u001b[38;5;124m\"\u001b[39m:\u001b[38;5;241m1860\u001b[39m,\u001b[38;5;124m\"\u001b[39m\u001b[38;5;124mAli\u001b[39m\u001b[38;5;124m\"\u001b[39m:\u001b[38;5;241m123\u001b[39m,\u001b[38;5;124m\"\u001b[39m\u001b[38;5;124mAsad\u001b[39m\u001b[38;5;124m\"\u001b[39m:\u001b[38;5;241m786\u001b[39m,\u001b[38;5;124m\"\u001b[39m\u001b[38;5;124mNasir\u001b[39m\u001b[38;5;124m\"\u001b[39m:\u001b[38;5;241m736\u001b[39m,\u001b[38;5;124m\"\u001b[39m\u001b[38;5;124mBilal\u001b[39m\u001b[38;5;124m\"\u001b[39m:\u001b[38;5;241m456\u001b[39m}\n\u001b[0;32m      2\u001b[0m \u001b[38;5;28;01mfor\u001b[39;00m name,favourite_number \u001b[38;5;129;01min\u001b[39;00m names\u001b[38;5;241m.\u001b[39mitems():\n\u001b[1;32m----> 3\u001b[0m     \u001b[38;5;28mprint\u001b[39m(\u001b[43mname\u001b[49m\u001b[38;5;241;43m.\u001b[39;49m\u001b[43mtitle\u001b[49m\u001b[43m(\u001b[49m\u001b[43m)\u001b[49m\u001b[38;5;241;43m+\u001b[39;49m\u001b[38;5;124;43m\"\u001b[39;49m\u001b[38;5;124;43m'\u001b[39;49m\u001b[38;5;124;43ms favorite number is: \u001b[39;49m\u001b[38;5;124;43m\"\u001b[39;49m\u001b[38;5;241;43m+\u001b[39;49m\u001b[38;5;28;43mint\u001b[39;49m\u001b[43m(\u001b[49m\u001b[43mfavourite_number\u001b[49m\u001b[43m)\u001b[49m)\n",
      "\u001b[1;31mTypeError\u001b[0m: can only concatenate str (not \"int\") to str"
     ]
    }
   ],
   "source": [
    "names={\"Dildar\":1860,\"Ali\":123,\"Asad\":786,\"Nasir\":736,\"Bilal\":456}\n",
    "for name,favourite_number in names.items():\n",
    "    print(name.title()+\"'s favorite number is: \"+int(favourite_number))"
   ]
  },
  {
   "cell_type": "code",
   "execution_count": 214,
   "id": "93b551cc",
   "metadata": {},
   "outputs": [
    {
     "name": "stdout",
     "output_type": "stream",
     "text": [
      "\n",
      "Key: username\n",
      "Value: Ali\n",
      "\n",
      "Key: first_name\n",
      "Value: Dildar\n",
      "\n",
      "Key: last_name\n",
      "Value: Ali\n"
     ]
    }
   ],
   "source": [
    "user_0 = {\n",
    " 'username': 'Ali',\n",
    " 'first_name': 'Dildar',\n",
    " 'last_name' : 'Ali'\n",
    "}\n",
    "for key, value in user_0.items():\n",
    "    print(\"\\nKey: \" + key)\n",
    "    print(\"Value: \" + value)"
   ]
  },
  {
   "cell_type": "code",
   "execution_count": 215,
   "id": "c64fe806",
   "metadata": {},
   "outputs": [
    {
     "name": "stdout",
     "output_type": "stream",
     "text": [
      "username Ali\n",
      "first_name Dildar\n",
      "last_name Ali\n"
     ]
    }
   ],
   "source": [
    "user_0 = {\n",
    " 'username': 'Ali',\n",
    " 'first_name': 'Dildar',\n",
    " 'last_name' : 'Ali'\n",
    "}\n",
    "for key, value in user_0.items():\n",
    "    print(key,value)\n",
    "    "
   ]
  },
  {
   "cell_type": "code",
   "execution_count": 216,
   "id": "9971d60b",
   "metadata": {},
   "outputs": [
    {
     "name": "stdout",
     "output_type": "stream",
     "text": [
      "Jen's favorite language is Python.\n",
      "Sarah's favorite language is C.\n",
      "Edward's favorite language is Ruby.\n",
      "Phil's favorite language is Python.\n"
     ]
    }
   ],
   "source": [
    "favorite_languages = {'jen': 'python', 'sarah': 'c', 'edward': 'ruby', 'phil': 'python', }\n",
    "for name, language in favorite_languages.items():\n",
    "    print(name.title() + \"'s favorite language is \" +\n",
    "    language.title() + \".\")"
   ]
  },
  {
   "cell_type": "code",
   "execution_count": 220,
   "id": "5f3b35bc",
   "metadata": {},
   "outputs": [
    {
     "name": "stdout",
     "output_type": "stream",
     "text": [
      "jen\n",
      "sarah\n",
      "edward\n",
      "phil\n"
     ]
    }
   ],
   "source": [
    "for item in favorite_languages.keys():\n",
    "    print(item)"
   ]
  },
  {
   "cell_type": "code",
   "execution_count": 224,
   "id": "6d897083",
   "metadata": {},
   "outputs": [
    {
     "name": "stdout",
     "output_type": "stream",
     "text": [
      "python\n",
      "c\n",
      "ruby\n",
      "python\n"
     ]
    }
   ],
   "source": [
    "for item in favorite_languages.values():\n",
    "    print(item)"
   ]
  },
  {
   "cell_type": "code",
   "execution_count": 221,
   "id": "0b041c52",
   "metadata": {},
   "outputs": [
    {
     "name": "stdout",
     "output_type": "stream",
     "text": [
      "jen\n",
      "sarah\n",
      "edward\n",
      "phil\n"
     ]
    }
   ],
   "source": [
    "for item in favorite_languages:\n",
    "    print(item)"
   ]
  },
  {
   "cell_type": "code",
   "execution_count": 225,
   "id": "adea9737",
   "metadata": {},
   "outputs": [
    {
     "name": "stdout",
     "output_type": "stream",
     "text": [
      "jen\n",
      "sarah\n",
      "edward\n",
      "phil\n"
     ]
    }
   ],
   "source": [
    "for value in favorite_languages:\n",
    "    print(value)"
   ]
  },
  {
   "cell_type": "code",
   "execution_count": 223,
   "id": "5507a2dd",
   "metadata": {},
   "outputs": [
    {
     "name": "stdout",
     "output_type": "stream",
     "text": [
      "jen python\n",
      "sarah c\n",
      "edward ruby\n",
      "phil python\n"
     ]
    }
   ],
   "source": [
    "for item,value in favorite_languages.items():\n",
    "    print(item,value)"
   ]
  },
  {
   "cell_type": "code",
   "execution_count": 226,
   "id": "d12e260b",
   "metadata": {},
   "outputs": [
    {
     "name": "stdout",
     "output_type": "stream",
     "text": [
      "('jen', 'python')\n",
      "('sarah', 'c')\n",
      "('edward', 'ruby')\n",
      "('phil', 'python')\n"
     ]
    }
   ],
   "source": [
    "for value in favorite_languages.items():\n",
    "    print(value)"
   ]
  },
  {
   "cell_type": "code",
   "execution_count": 228,
   "id": "068dbdee",
   "metadata": {},
   "outputs": [
    {
     "name": "stdout",
     "output_type": "stream",
     "text": [
      "Jen\n",
      "Sarah\n",
      "Hi Sarah, I see your favorite language is C!\n",
      "Edward\n",
      "Phil\n",
      "Hi Phil, I see your favorite language is Python!\n"
     ]
    }
   ],
   "source": [
    "favorite_languages = { 'jen': 'python', 'sarah': 'c', 'edward': 'ruby', 'phil': 'python' }\n",
    "friends = ['phil', 'sarah']\n",
    "for name in favorite_languages.keys():\n",
    "     print(name.title())\n",
    " \n",
    "     if name in friends:\n",
    "         print(\"Hi \" + name.title() + \", I see your favorite language is \" + favorite_languages[name].title() + \"!\")"
   ]
  },
  {
   "cell_type": "code",
   "execution_count": 229,
   "id": "11cb180c",
   "metadata": {},
   "outputs": [
    {
     "name": "stdout",
     "output_type": "stream",
     "text": [
      "Edward, thank you for taking the poll.\n",
      "Jen, thank you for taking the poll.\n",
      "Phil, thank you for taking the poll.\n",
      "Sarah, thank you for taking the poll.\n"
     ]
    }
   ],
   "source": [
    "favorite_languages = {\n",
    " 'jen': 'python',\n",
    " 'sarah': 'c',\n",
    " 'edward': 'ruby',\n",
    " 'phil': 'python',\n",
    " }\n",
    "for name in sorted(favorite_languages.keys()):\n",
    "     print(name.title() + \", thank you for taking the poll.\")"
   ]
  },
  {
   "cell_type": "code",
   "execution_count": 231,
   "id": "869e81f2",
   "metadata": {},
   "outputs": [
    {
     "ename": "AttributeError",
     "evalue": "'dict' object has no attribute 'sort'",
     "output_type": "error",
     "traceback": [
      "\u001b[1;31m---------------------------------------------------------------------------\u001b[0m",
      "\u001b[1;31mAttributeError\u001b[0m                            Traceback (most recent call last)",
      "Input \u001b[1;32mIn [231]\u001b[0m, in \u001b[0;36m<cell line: 7>\u001b[1;34m()\u001b[0m\n\u001b[0;32m      1\u001b[0m favorite_languages \u001b[38;5;241m=\u001b[39m {\n\u001b[0;32m      2\u001b[0m  \u001b[38;5;124m'\u001b[39m\u001b[38;5;124mjen\u001b[39m\u001b[38;5;124m'\u001b[39m: \u001b[38;5;124m'\u001b[39m\u001b[38;5;124mpython\u001b[39m\u001b[38;5;124m'\u001b[39m,\n\u001b[0;32m      3\u001b[0m  \u001b[38;5;124m'\u001b[39m\u001b[38;5;124msarah\u001b[39m\u001b[38;5;124m'\u001b[39m: \u001b[38;5;124m'\u001b[39m\u001b[38;5;124mc\u001b[39m\u001b[38;5;124m'\u001b[39m,\n\u001b[0;32m      4\u001b[0m  \u001b[38;5;124m'\u001b[39m\u001b[38;5;124medward\u001b[39m\u001b[38;5;124m'\u001b[39m: \u001b[38;5;124m'\u001b[39m\u001b[38;5;124mruby\u001b[39m\u001b[38;5;124m'\u001b[39m,\n\u001b[0;32m      5\u001b[0m  \u001b[38;5;124m'\u001b[39m\u001b[38;5;124mphil\u001b[39m\u001b[38;5;124m'\u001b[39m: \u001b[38;5;124m'\u001b[39m\u001b[38;5;124mpython\u001b[39m\u001b[38;5;124m'\u001b[39m,\n\u001b[0;32m      6\u001b[0m  }\n\u001b[1;32m----> 7\u001b[0m a\u001b[38;5;241m=\u001b[39m\u001b[43mfavorite_languages\u001b[49m\u001b[38;5;241;43m.\u001b[39;49m\u001b[43msort\u001b[49m()\n\u001b[0;32m      8\u001b[0m \u001b[38;5;28;01mfor\u001b[39;00m name \u001b[38;5;129;01min\u001b[39;00m a: \u001b[38;5;66;03m#sorted(favorite_languages.keys()):\u001b[39;00m\n\u001b[0;32m      9\u001b[0m      \u001b[38;5;28mprint\u001b[39m(name\u001b[38;5;241m.\u001b[39mtitle() \u001b[38;5;241m+\u001b[39m \u001b[38;5;124m\"\u001b[39m\u001b[38;5;124m, thank you for taking the poll.\u001b[39m\u001b[38;5;124m\"\u001b[39m)\n",
      "\u001b[1;31mAttributeError\u001b[0m: 'dict' object has no attribute 'sort'"
     ]
    }
   ],
   "source": [
    "favorite_languages = {\n",
    " 'jen': 'python',\n",
    " 'sarah': 'c',\n",
    " 'edward': 'ruby',\n",
    " 'phil': 'python',\n",
    " }\n",
    "a=favorite_languages.sort()\n",
    "for name in a: #sorted(favorite_languages.keys()):\n",
    "     print(name.title() + \", thank you for taking the poll.\")"
   ]
  },
  {
   "cell_type": "code",
   "execution_count": 232,
   "id": "0b3209c4",
   "metadata": {},
   "outputs": [
    {
     "name": "stdout",
     "output_type": "stream",
     "text": [
      "Python\n",
      "C\n",
      "Ruby\n",
      "Python\n"
     ]
    }
   ],
   "source": [
    "for language in favorite_languages.values():\n",
    "     print(language.title())"
   ]
  },
  {
   "cell_type": "code",
   "execution_count": 233,
   "id": "88d6af5a",
   "metadata": {},
   "outputs": [
    {
     "name": "stdout",
     "output_type": "stream",
     "text": [
      "Ruby\n",
      "Python\n",
      "C\n"
     ]
    }
   ],
   "source": [
    "for language in set(favorite_languages.values()):\n",
    "     print(language.title())"
   ]
  },
  {
   "cell_type": "code",
   "execution_count": 234,
   "id": "d33b0d35",
   "metadata": {},
   "outputs": [
    {
     "name": "stdout",
     "output_type": "stream",
     "text": [
      "The Indus river runs through  Pakistan .\n",
      "The Nile river runs through  Egypt .\n",
      "The Ganga river runs through  India .\n"
     ]
    }
   ],
   "source": [
    "rivers={\"indus\":\"pakistan\",\"nile\":\"egypt\",'ganga':'india'}\n",
    "\n",
    "for river,country_name in rivers.items():\n",
    "    print(\"The\",river.title(),\"river runs through \",country_name.title(),\".\")"
   ]
  },
  {
   "cell_type": "code",
   "execution_count": 235,
   "id": "d067a2e8",
   "metadata": {},
   "outputs": [
    {
     "name": "stdout",
     "output_type": "stream",
     "text": [
      "Jen's favorite language is Python.\n",
      "Sarah's favorite language is C.\n",
      "Edward's favorite language is Ruby.\n",
      "Phil's favorite language is Python.\n",
      "\n",
      "\n",
      "Thank you for taking the poll, Phil!\n",
      "Dildar, what's your favorite programming language?\n",
      "Aamir, what's your favorite programming language?\n",
      "Asad, what's your favorite programming language?\n",
      "Thank you for taking the poll, Sarah!\n",
      "Bilal, what's your favorite programming language?\n",
      "Thank you for taking the poll, Edward!\n"
     ]
    }
   ],
   "source": [
    "favorite_languages = {'jen': 'python','sarah': 'c','edward': 'ruby','phil': 'python' }\n",
    "\n",
    "for name, language in favorite_languages.items():\n",
    "    print(name.title() + \"'s favorite language is \" + language.title() + \".\")\n",
    "\n",
    "print(\"\\n\")\n",
    "\n",
    "coders = ['phil', 'dildar', 'aamir', 'asad', 'sarah', 'bilal', 'edward']\n",
    "for coder in coders:\n",
    "    if coder in favorite_languages.keys():\n",
    "        print(\"Thank you for taking the poll, \" + coder.title() + \"!\")\n",
    "    else:\n",
    "        print(coder.title() + \", what's your favorite programming language?\")"
   ]
  },
  {
   "cell_type": "code",
   "execution_count": 236,
   "id": "03e58d5d",
   "metadata": {},
   "outputs": [
    {
     "name": "stdout",
     "output_type": "stream",
     "text": [
      "{'color': 'green', 'points': 5, 'speed': 'slow'}\n",
      "{'color': 'green', 'points': 5, 'speed': 'slow'}\n",
      "{'color': 'green', 'points': 5, 'speed': 'slow'}\n",
      "{'color': 'green', 'points': 5, 'speed': 'slow'}\n",
      "{'color': 'green', 'points': 5, 'speed': 'slow'}\n",
      "\n",
      "\n",
      "Total number of aliens: 30\n"
     ]
    }
   ],
   "source": [
    "aliens = []\n",
    "\n",
    "for alien_number in range(30):\n",
    "    new_alien = {'color': 'green', 'points': 5, 'speed': 'slow'}\n",
    "    aliens.append(new_alien)\n",
    "\n",
    "for alien in aliens[:5]:\n",
    "     print(alien)\n",
    "print(\"\\n\")\n",
    "\n",
    "print(\"Total number of aliens: \" + str(len(aliens)))"
   ]
  },
  {
   "cell_type": "code",
   "execution_count": 238,
   "id": "706a81f3",
   "metadata": {},
   "outputs": [
    {
     "name": "stdout",
     "output_type": "stream",
     "text": [
      "You ordered a thick-crust pizza with the following toppings: \n",
      "mushrooms\n",
      "extra cheese\n"
     ]
    }
   ],
   "source": [
    "pizza = {'crust': 'thick', 'toppings': ['mushrooms', 'extra cheese']}\n",
    "\n",
    "print(\"You ordered a \"+ pizza['crust'] +\"-crust pizza \" +\"with the following toppings: \") \n",
    "for topping in pizza['toppings']:\n",
    "       print(topping)\n"
   ]
  },
  {
   "cell_type": "code",
   "execution_count": 240,
   "id": "e2c4a570",
   "metadata": {},
   "outputs": [
    {
     "name": "stdout",
     "output_type": "stream",
     "text": [
      "\n",
      "Jen's favorite languages are:\n",
      "Python\n",
      "Ruby\n",
      "\n",
      "Sarah's favorite languages are:\n",
      "C\n",
      "\n",
      "Edward's favorite languages are:\n",
      "Ruby\n",
      "Go\n",
      "\n",
      "Phil's favorite languages are:\n",
      "Python\n",
      "Haskell\n"
     ]
    }
   ],
   "source": [
    "favorite_languages = {\n",
    " 'jen': ['python', 'ruby'],\n",
    " 'sarah': ['c'],\n",
    " 'edward': ['ruby', 'go'],\n",
    " 'phil': ['python', 'haskell'],\n",
    " }\n",
    "for name, languages in favorite_languages.items():    \n",
    "     print(\"\\n\" + name.title() + \"'s favorite languages are:\")\n",
    "     for language in languages:\n",
    "             print(language.title())"
   ]
  },
  {
   "cell_type": "code",
   "execution_count": 242,
   "id": "4daf87b7",
   "metadata": {},
   "outputs": [
    {
     "name": "stdout",
     "output_type": "stream",
     "text": [
      "\n",
      "Username: aeinstein\n",
      "\tFull name: Albert Einstein\n",
      "\tLocation: Princeton\n",
      "\n",
      "Username: marie\n",
      "\tFull name: Marie Curie\n",
      "\tLocation: Paris\n"
     ]
    }
   ],
   "source": [
    "users = {\n",
    " 'aeinstein': {\n",
    " 'first': 'albert',\n",
    " 'last': 'einstein',\n",
    " 'location': 'princeton',\n",
    " },\n",
    " 'marie': {\n",
    " 'first': 'marie',\n",
    " 'last': 'curie',\n",
    " 'location': 'paris',\n",
    " },\n",
    " }\n",
    "for username, user_info in users.items():\n",
    "  print(\"\\nUsername: \" + username)\n",
    "  full_name = user_info['first'] + \" \" + user_info['last']\n",
    "  location = user_info['location']\n",
    "  print(\"\\tFull name: \" + full_name.title())\n",
    "  print(\"\\tLocation: \" + location.title())"
   ]
  },
  {
   "cell_type": "code",
   "execution_count": 243,
   "id": "52526381",
   "metadata": {},
   "outputs": [
    {
     "name": "stdout",
     "output_type": "stream",
     "text": [
      "[{'First_name': 'Dildar', 'Last_name': 'Ali', 'Age': 22, 'City': 'Karachi'}, {'First_name': 'Abdul', 'Last_name': 'Samad', 'Age': 18, 'City': 'Dadu'}, {'First_name': 'Aamir', 'Last_name': 'Khan', 'Age': 25, 'City': 'Jamshoro'}]\n",
      "\n",
      "                    'Result'\n",
      "Fisrt name: Dildar\n",
      "Last name: Ali\n",
      "Age: 22 years\n",
      "City: Karachi\n",
      "\n",
      "Fisrt name: Abdul\n",
      "Last name: Samad\n",
      "Age: 18 years\n",
      "City: Dadu\n",
      "\n",
      "Fisrt name: Aamir\n",
      "Last name: Khan\n",
      "Age: 25 years\n",
      "City: Jamshoro\n",
      "\n"
     ]
    }
   ],
   "source": [
    "information={\"First_name\":\"Dildar\",\"Last_name\":\"Ali\",\"Age\":22,\"City\":\"Karachi\"}\n",
    "information2={\"First_name\":\"Abdul\",\"Last_name\":\"Samad\",\"Age\":18,\"City\":\"Dadu\"}\n",
    "information3={\"First_name\":\"Aamir\",\"Last_name\":\"Khan\",\"Age\":25,\"City\":\"Jamshoro\"}\n",
    "people=[information,information2,information3]\n",
    "print(people)\n",
    "print(\"\\n                    'Result'\")\n",
    "for b in people:\n",
    "    print(\"Fisrt name: \"+b['First_name'])\n",
    "    print(\"Last name: \"+b['Last_name'])\n",
    "    print(\"Age: \"+str(b['Age'])+\" years\" )\n",
    "    print(\"City: \"+b['City']+\"\\n\" )\n"
   ]
  },
  {
   "cell_type": "code",
   "execution_count": 249,
   "id": "f68effc5",
   "metadata": {},
   "outputs": [
    {
     "name": "stdout",
     "output_type": "stream",
     "text": [
      "({'First_name': 'Dildar', 'Last_name': 'Ali', 'Age': 22, 'City': 'Karachi'}, {'First_name': 'Abdul', 'Last_name': 'Samad', 'Age': 18, 'City': 'Dadu'}, {'First_name': 'Aamir', 'Last_name': 'Khan', 'Age': 25, 'City': 'Jamshoro'})\n",
      "\n",
      "                    'Result'\n"
     ]
    },
    {
     "ename": "AttributeError",
     "evalue": "'tuple' object has no attribute 'keys'",
     "output_type": "error",
     "traceback": [
      "\u001b[1;31m---------------------------------------------------------------------------\u001b[0m",
      "\u001b[1;31mAttributeError\u001b[0m                            Traceback (most recent call last)",
      "Input \u001b[1;32mIn [249]\u001b[0m, in \u001b[0;36m<cell line: 7>\u001b[1;34m()\u001b[0m\n\u001b[0;32m      5\u001b[0m \u001b[38;5;28mprint\u001b[39m(people)\n\u001b[0;32m      6\u001b[0m \u001b[38;5;28mprint\u001b[39m(\u001b[38;5;124m\"\u001b[39m\u001b[38;5;130;01m\\n\u001b[39;00m\u001b[38;5;124m                    \u001b[39m\u001b[38;5;124m'\u001b[39m\u001b[38;5;124mResult\u001b[39m\u001b[38;5;124m'\u001b[39m\u001b[38;5;124m\"\u001b[39m)\n\u001b[1;32m----> 7\u001b[0m \u001b[38;5;28;01mfor\u001b[39;00m b \u001b[38;5;129;01min\u001b[39;00m \u001b[43mpeople\u001b[49m\u001b[38;5;241;43m.\u001b[39;49m\u001b[43mkeys\u001b[49m():\n\u001b[0;32m      8\u001b[0m     \u001b[38;5;28mprint\u001b[39m(\u001b[38;5;124m\"\u001b[39m\u001b[38;5;124mFisrt name: \u001b[39m\u001b[38;5;124m\"\u001b[39m\u001b[38;5;241m+\u001b[39mb[\u001b[38;5;124m'\u001b[39m\u001b[38;5;124mFirst_name\u001b[39m\u001b[38;5;124m'\u001b[39m])\n\u001b[0;32m      9\u001b[0m     \u001b[38;5;28mprint\u001b[39m(\u001b[38;5;124m\"\u001b[39m\u001b[38;5;124mLast name: \u001b[39m\u001b[38;5;124m\"\u001b[39m\u001b[38;5;241m+\u001b[39mb[\u001b[38;5;124m'\u001b[39m\u001b[38;5;124mLast_name\u001b[39m\u001b[38;5;124m'\u001b[39m])\n",
      "\u001b[1;31mAttributeError\u001b[0m: 'tuple' object has no attribute 'keys'"
     ]
    }
   ],
   "source": [
    "information={\"First_name\":\"Dildar\",\"Last_name\":\"Ali\",\"Age\":22,\"City\":\"Karachi\"}\n",
    "information2={\"First_name\":\"Abdul\",\"Last_name\":\"Samad\",\"Age\":18,\"City\":\"Dadu\"}\n",
    "information3={\"First_name\":\"Aamir\",\"Last_name\":\"Khan\",\"Age\":25,\"City\":\"Jamshoro\"}\n",
    "people=information,information2,information3\n",
    "print(people)\n",
    "print(\"\\n                    'Result'\")\n",
    "for b in people.keys():\n",
    "    print(\"Fisrt name: \"+b['First_name'])\n",
    "    print(\"Last name: \"+b['Last_name'])\n",
    "    print(\"Age: \"+str(b['Age'])+\" years\" )\n",
    "    print(\"City: \"+b['City']+\"\\n\" )\n"
   ]
  },
  {
   "cell_type": "code",
   "execution_count": 250,
   "id": "60a5c49e",
   "metadata": {},
   "outputs": [
    {
     "name": "stdout",
     "output_type": "stream",
     "text": [
      "[{'name': 'Linus', 'kind': 'Male Dog', \"owner's name\": 'Asad', 'age': 2}, {'name': 'Coco', 'kind': 'Male Cat', \"owner's name\": 'Dildar', 'age': 1}, {'name': 'Roxy', 'kind': 'Female Cat ', \"owner's name\": 'Aamir', 'age': 2.5}]\n",
      "\n",
      "                     Result\n",
      "Name of pet: Linus\n",
      "Kind of pet: Male Dog\n",
      "owners_name: Asad\n",
      "Age: 2 years\n",
      "\n",
      "Name of pet: Coco\n",
      "Kind of pet: Male Cat\n",
      "owners_name: Dildar\n",
      "Age: 1 years\n",
      "\n",
      "Name of pet: Roxy\n",
      "Kind of pet: Female Cat \n",
      "owners_name: Aamir\n",
      "Age: 2.5 years\n",
      "\n"
     ]
    }
   ],
   "source": [
    "linus={\"name\":'Linus',\"kind\":\"Male Dog\",\"owner's name\":\"Asad\",\"age\":2}\n",
    "coco={\"name\":'Coco',\"kind\":\"Male Cat\",\"owner's name\":\"Dildar\",\"age\":1}\n",
    "roxy={\"name\":'Roxy',\"kind\":\"Female Cat \",\"owner's name\":\"Aamir\",\"age\":2.5}\n",
    "\n",
    "pets=[linus,coco,roxy]\n",
    "print(pets)\n",
    "print('\\n                     Result')\n",
    "for pet in pets:\n",
    "        print(\"Name of pet: \"+pet['name'])\n",
    "        print(\"Kind of pet: \"+pet['kind'])\n",
    "        print(\"owners_name: \"+pet[\"owner's name\"])\n",
    "        print(\"Age: \"+str(pet['age'])+\" years\\n\" )\n",
    "        "
   ]
  },
  {
   "cell_type": "code",
   "execution_count": 253,
   "id": "2f3139fd",
   "metadata": {},
   "outputs": [
    {
     "name": "stdout",
     "output_type": "stream",
     "text": [
      "\n",
      "Dildar's favorite places are: \n",
      "Gorakh Hills\n",
      "Moen-Jo-Daro\n",
      "Hawksbay\n",
      "\n",
      "Asad's favorite places are: \n",
      "Do Darya\n",
      "Al Manzar\n",
      "\n",
      "Aamir's favorite places are: \n",
      "Keejhar Lake\n",
      "Kashmir Point\n"
     ]
    }
   ],
   "source": [
    "favorite_places={\n",
    "                 \"Dildar\":['Gorakh hills','moen-jo-Daro',\"Hawksbay\"],\n",
    "                 \"Asad\":['Do Darya',\"Al Manzar\"],    \n",
    "                 \"Aamir\":['Keejhar lake','Kashmir point']\n",
    "}   \n",
    "\n",
    "for name,place in favorite_places.items():\n",
    "    print(\"\\n\"+name.title()+\"'s favorite places are: \")\n",
    "    for favorite in place:\n",
    "        print(favorite.title())\n",
    "                           "
   ]
  },
  {
   "cell_type": "code",
   "execution_count": 254,
   "id": "180b4c00",
   "metadata": {},
   "outputs": [
    {
     "name": "stdout",
     "output_type": "stream",
     "text": [
      "\n",
      "Dildar's favorite numbers are: \n",
      "1860\n",
      "999\n",
      "122\n",
      "\n",
      "Ali's favorite numbers are: \n",
      "123\n",
      "345\n",
      "456\n",
      "\n",
      "Asad's favorite numbers are: \n",
      "786\n",
      "121\n",
      "212\n",
      "\n",
      "Nasir's favorite numbers are: \n",
      "736\n",
      "546\n",
      "980\n",
      "\n",
      "Bilal's favorite numbers are: \n",
      "456\n",
      "890\n",
      "789\n"
     ]
    }
   ],
   "source": [
    "names={\"Dildar\":[1860,999,122],\"Ali\":[123,345,456],\"Asad\":[786,121,212],\"Nasir\":[736,546,980],\"Bilal\":[456,890,789]}\n",
    "for name,favourite_number in names.items():\n",
    "    print(\"\\n\"+name.title()+\"'s favorite numbers are: \")\n",
    "    for number in favourite_number:\n",
    "        print(number)"
   ]
  },
  {
   "cell_type": "code",
   "execution_count": 255,
   "id": "43d7b212",
   "metadata": {},
   "outputs": [
    {
     "name": "stdout",
     "output_type": "stream",
     "text": [
      "\n",
      "Dadu is in Pakistan.\n",
      "Dadu is famous for places of interest like Gorakh Hill and Manchar Lake \n",
      "Dadu has a poultaion of around 171191\n",
      "\n",
      "Krarchi is in Pakistan.\n",
      "Krarchi is the largest city of pakistan!\n",
      "Krarchi has a poultaion of around  14.91 million\n",
      "\n",
      "Paris is in France.\n",
      "Paris is famous for Eiffil tower and the terraces of its cafés\n",
      "Paris has a poultaion of around 2.161 million\n"
     ]
    }
   ],
   "source": [
    "cities={\n",
    "    \"Dadu\":{\n",
    "    \n",
    "    \"country\":\"Pakistan\",\n",
    "    \"fact\":\" is famous for places of interest like Gorakh Hill and Manchar Lake \",\n",
    "    \"population\":171191\n",
    "        },\n",
    "    \n",
    "    \"krarchi\": {\n",
    "            'country':'Pakistan',\n",
    "            'fact':' is the largest city of pakistan!' ,\n",
    "            'population':\" 14.91 million\"\n",
    "        },\n",
    "    \n",
    "    \"Paris\":{\n",
    "        \"country\":\"France\",\n",
    "        \"fact\":\" is famous for Eiffil tower and the terraces of its cafés\",\n",
    "        \"population\":\"2.161 million\"\n",
    "        \n",
    "    }\n",
    "                  \n",
    "}\n",
    "for city,names in cities.items():\n",
    "    country=names[\"country\"].title()\n",
    "    fact=names[\"fact\"]\n",
    "    population=str(names[\"population\"])\n",
    "    \n",
    "    print(\"\\n\"+city.title()+\" is in \"+country+\".\")\n",
    "    print(city.title()+fact)\n",
    "    print(city.title()+\" has a poultaion of around \"+population)\n",
    "    "
   ]
  },
  {
   "cell_type": "markdown",
   "id": "8e22ad5f",
   "metadata": {},
   "source": [
    "# Chapter#07"
   ]
  },
  {
   "cell_type": "code",
   "execution_count": 256,
   "id": "aa8f81d6",
   "metadata": {},
   "outputs": [
    {
     "name": "stdout",
     "output_type": "stream",
     "text": [
      "Enter a number: 2\n",
      "Enter a number: 3\n",
      "Enter a number: 4\n",
      "Enter a number: d\n",
      "9\n"
     ]
    }
   ],
   "source": [
    "total=0\n",
    "while True:\n",
    "    n=input(\"Enter a number: \")\n",
    "    if n==\"d\":\n",
    "        break\n",
    "    else:\n",
    "        \n",
    "        \n",
    "        total+=int(n)\n",
    "print(total)    "
   ]
  },
  {
   "cell_type": "code",
   "execution_count": 257,
   "id": "a3c41a8c",
   "metadata": {},
   "outputs": [
    {
     "name": "stdout",
     "output_type": "stream",
     "text": [
      "Enter you numbers in commas:2,3,4\n",
      "Total sum of numbers are:  9\n"
     ]
    }
   ],
   "source": [
    "summ=0\n",
    "n=input(\"Enter you numbers in commas:\").split(',')\n",
    "for a in n:\n",
    "    summ+=int(a)\n",
    "print(\"Total sum of numbers are: \",summ)"
   ]
  },
  {
   "cell_type": "code",
   "execution_count": 2,
   "id": "3341d7bb",
   "metadata": {},
   "outputs": [
    {
     "name": "stdout",
     "output_type": "stream",
     "text": [
      "Enter any number and press 'w' for exit: 2\n",
      "Enter any number and press 'w' for exit: 3\n",
      "Enter any number and press 'w' for exit: 5\n",
      "Enter any number and press 'w' for exit: 6\n",
      "Enter any number and press 'w' for exit: 77\n",
      "Enter any number and press 'w' for exit: w\n",
      "93\n"
     ]
    }
   ],
   "source": [
    "a=0\n",
    "while True:\n",
    "    n=input(\"Enter any number and press 'w' for exit: \")\n",
    "    if n=='w':\n",
    "            break\n",
    "    else:\n",
    "        a+=int(n)\n",
    "      \n",
    "print(a)   "
   ]
  },
  {
   "cell_type": "code",
   "execution_count": 3,
   "id": "bc26658f",
   "metadata": {},
   "outputs": [
    {
     "name": "stdout",
     "output_type": "stream",
     "text": [
      "Enter you numbers: 2 3 4 55\n",
      "64\n"
     ]
    }
   ],
   "source": [
    "a=0\n",
    "n=input(\"Enter you numbers: \").split(\" \")\n",
    "for i in n:\n",
    "    a+=int(i)\n",
    "print(a)    \n",
    "    "
   ]
  },
  {
   "cell_type": "code",
   "execution_count": 4,
   "id": "0f2788bd",
   "metadata": {},
   "outputs": [
    {
     "name": "stdout",
     "output_type": "stream",
     "text": [
      "If you tell us who you are, we can personalize the messages you see.\n",
      "What is your first name? Dildar\n",
      "\n",
      "Hello, Dildar!\n"
     ]
    }
   ],
   "source": [
    "prompt = \"If you tell us who you are, we can personalize the messages you see.\"\n",
    "prompt += \"\\nWhat is your first name? \"\n",
    "name = input(prompt)\n",
    "print(\"\\nHello, \" + name + \"!\")"
   ]
  },
  {
   "cell_type": "code",
   "execution_count": 5,
   "id": "87c831e2",
   "metadata": {},
   "outputs": [
    {
     "name": "stdout",
     "output_type": "stream",
     "text": [
      "If you tell us who you are, we can personalize the messages you see.\n",
      "What is your first name? Dildar\n",
      "\n",
      "Hello, Dildar!\n"
     ]
    }
   ],
   "source": [
    "prompt = \"If you tell us who you are, we can personalize the messages you see.\\nWhat is your first name? \"\n",
    "\n",
    "name = input(prompt)\n",
    "print(\"\\nHello, \" + name + \"!\")"
   ]
  },
  {
   "cell_type": "code",
   "execution_count": 8,
   "id": "79e94dfb",
   "metadata": {},
   "outputs": [
    {
     "name": "stdout",
     "output_type": "stream",
     "text": [
      "0\n",
      "1\n",
      "2\n",
      "3\n",
      "4\n",
      "5\n"
     ]
    }
   ],
   "source": [
    "a=0\n",
    "while a<=5:\n",
    "    print(a)\n",
    "    a+=1"
   ]
  },
  {
   "cell_type": "code",
   "execution_count": 10,
   "id": "234498f6",
   "metadata": {},
   "outputs": [
    {
     "name": "stdout",
     "output_type": "stream",
     "text": [
      "1\n",
      "2\n",
      "3\n",
      "4\n",
      "5\n"
     ]
    }
   ],
   "source": [
    "a=1\n",
    "while a<=5:\n",
    "    print(a)\n",
    "    a+=1"
   ]
  },
  {
   "cell_type": "code",
   "execution_count": 11,
   "id": "d0ba58be",
   "metadata": {},
   "outputs": [
    {
     "name": "stdout",
     "output_type": "stream",
     "text": [
      "\n",
      "Tell me something, and I will repeat it back to you:\n",
      "Enter 'quit' to end the program.Hi\n",
      "Hi\n",
      "\n",
      "Tell me something, and I will repeat it back to you:\n",
      "Enter 'quit' to end the program.Hello\n",
      "Hello\n",
      "\n",
      "Tell me something, and I will repeat it back to you:\n",
      "Enter 'quit' to end the program.quit\n"
     ]
    }
   ],
   "source": [
    "prompt = \"\\nTell me something, and I will repeat it back to you:\\nEnter 'quit' to end the program.\"\n",
    "\n",
    "message = \"\"\n",
    "active=True\n",
    "while active:\n",
    "#message != 'quit':\n",
    "    message = input(prompt)\n",
    "    \n",
    "    if message==\"quit\":\n",
    "        active=False\n",
    "    else:    \n",
    "        print(message)"
   ]
  },
  {
   "cell_type": "code",
   "execution_count": 12,
   "id": "a336e4d5",
   "metadata": {},
   "outputs": [
    {
     "name": "stdout",
     "output_type": "stream",
     "text": [
      "\n",
      "Please enter the name of a city you have visited:\n",
      "Enter 'quit' when you are finished.dadu\n",
      "I would like to visit Dadu!\n",
      "\n",
      "Please enter the name of a city you have visited:\n",
      "Enter 'quit' when you are finished.khi\n",
      "I would like to visit Khi!\n",
      "\n",
      "Please enter the name of a city you have visited:\n",
      "Enter 'quit' when you are finished.quit\n"
     ]
    }
   ],
   "source": [
    "prompt = \"\\nPlease enter the name of a city you have visited:\\nEnter 'quit' when you are finished.\"\n",
    "\n",
    "\n",
    "while True:\n",
    "    city=input(prompt)\n",
    "    if city==\"quit\":\n",
    "        break\n",
    "    else:\n",
    "        print(\"I would like to visit \"+city.title()+\"!\")\n",
    "    "
   ]
  },
  {
   "cell_type": "code",
   "execution_count": 13,
   "id": "498dd10a",
   "metadata": {},
   "outputs": [
    {
     "name": "stdout",
     "output_type": "stream",
     "text": [
      "1 3 5 7 9 "
     ]
    }
   ],
   "source": [
    "a=0\n",
    "while a<10:\n",
    "    a=a+1\n",
    "    if a%2==0:\n",
    "            continue\n",
    "    else:\n",
    "      \n",
    "        print(a,end=\" \")"
   ]
  },
  {
   "cell_type": "code",
   "execution_count": 14,
   "id": "65d3eb76",
   "metadata": {},
   "outputs": [
    {
     "name": "stdout",
     "output_type": "stream",
     "text": [
      "2 4 6 8 10 "
     ]
    }
   ],
   "source": [
    "a=0\n",
    "while a<10:\n",
    "    a=a+1\n",
    "    if a%2!=0:\n",
    "            continue\n",
    "    else:\n",
    "      \n",
    "        print(a,end=\" \")"
   ]
  },
  {
   "cell_type": "code",
   "execution_count": 15,
   "id": "2a799e32",
   "metadata": {},
   "outputs": [
    {
     "name": "stdout",
     "output_type": "stream",
     "text": [
      "Please enter series of pizza toppings or type 'quit' to exit:mushroom\n",
      "you'll add 'mushroom' to your pizza!\n",
      "Please enter series of pizza toppings or type 'quit' to exit:chicken\n",
      "you'll add 'chicken' to your pizza!\n",
      "Please enter series of pizza toppings or type 'quit' to exit:pepper\n",
      "you'll add 'pepper' to your pizza!\n",
      "Please enter series of pizza toppings or type 'quit' to exit:quit\n"
     ]
    }
   ],
   "source": [
    "while True:\n",
    "    toppings=input(\"Please enter series of pizza toppings or type 'quit' to exit:\")\n",
    "    if toppings==\"quit\":\n",
    "        break\n",
    "    else:\n",
    "        print(f\"you'll add '{toppings}' to your pizza!\")  \n",
    "       "
   ]
  },
  {
   "cell_type": "code",
   "execution_count": 1,
   "id": "a950a0ed",
   "metadata": {},
   "outputs": [
    {
     "name": "stdout",
     "output_type": "stream",
     "text": [
      "Please enter your age or press 'd' to exit: 1\n",
      "The ticket is free\n",
      "Please enter your age or press 'd' to exit: 3\n",
      "The ticket is $10\n",
      "Please enter your age or press 'd' to exit: 12\n",
      "The ticket is $15\n",
      "Please enter your age or press 'd' to exit: d\n"
     ]
    }
   ],
   "source": [
    "while True:\n",
    "    \n",
    "    age=input(\"Please enter your age or press 'd' to exit: \")\n",
    "    \n",
    "    if age=='d':   \n",
    "                  break   \n",
    "             \n",
    "    elif int(age)<3:\n",
    "                         print(\"The ticket is free\")\n",
    "    elif int(age)<12:\n",
    "                         print(\"The ticket is $10\")\n",
    "    elif int(age)>=12:\n",
    "                         print(\"The ticket is $15\")        \n",
    "    \n",
    "         "
   ]
  },
  {
   "cell_type": "code",
   "execution_count": 2,
   "id": "0f9ef6e3",
   "metadata": {},
   "outputs": [
    {
     "name": "stdout",
     "output_type": "stream",
     "text": [
      "The current users are Bilal\n",
      "The current users are Dildar\n",
      "The current users are Asad\n",
      "The current users are Ali\n",
      "\n",
      "The following users have been cofirmed!\n",
      "Bilal\n",
      "Dildar\n",
      "Asad\n",
      "Ali\n"
     ]
    }
   ],
   "source": [
    "unconfimed_users=[\"Ali\",\"asad\",\"dildar\",\"Bilal\"]\n",
    "confirmed_users=[]\n",
    "\n",
    "while unconfimed_users:\n",
    "    current_users=unconfimed_users.pop()\n",
    "    print(f\"The current users are {current_users.title()}\")\n",
    "    \n",
    "    confirmed_users.append(current_users)\n",
    "print(\"\\nThe following users have been cofirmed!\")\n",
    "for name in confirmed_users:\n",
    "        print(name.title())"
   ]
  },
  {
   "cell_type": "code",
   "execution_count": 3,
   "id": "b550f2cf",
   "metadata": {},
   "outputs": [
    {
     "name": "stdout",
     "output_type": "stream",
     "text": [
      "['dog', 'cat', 'dog', 'goldfish', 'cat', 'rabbit', 'cat']\n",
      "['dog', 'dog', 'goldfish', 'rabbit']\n"
     ]
    }
   ],
   "source": [
    "pets=['dog','cat','dog','goldfish','cat','rabbit','cat']\n",
    "print(pets)\n",
    "\n",
    "while 'cat' in pets:\n",
    "    pets.remove('cat')\n",
    "print(pets)    "
   ]
  },
  {
   "cell_type": "code",
   "execution_count": 9,
   "id": "c222bc9b",
   "metadata": {
    "scrolled": true
   },
   "outputs": [
    {
     "name": "stdout",
     "output_type": "stream",
     "text": [
      "\n",
      "What is your name? Dildar\n",
      "Which mountain would you like to climb someday? k2\n",
      "Would you like to let another person respond? (yes/ no) yes\n",
      "\n",
      "What is your name? Asad\n",
      "Which mountain would you like to climb someday? m2\n",
      "Would you like to let another person respond? (yes/ no) no\n",
      "\n",
      "--- Poll Results ---\n",
      "Dildar would like to climb k2.\n",
      "Asad would like to climb m2.\n"
     ]
    }
   ],
   "source": [
    "responses={}\n",
    "polling_active = True\n",
    "while polling_active:\n",
    "    \n",
    " \n",
    "    name = input(\"\\nWhat is your name? \")\n",
    "    response = input(\"Which mountain would you like to climb someday? \")\n",
    " \n",
    "\n",
    "    responses[name] = response\n",
    " \n",
    "\n",
    "    repeat = input(\"Would you like to let another person respond? (yes/ no) \")\n",
    "    if repeat == 'no':\n",
    "         polling_active = False\n",
    " \n",
    "\n",
    "print(\"\\n--- Poll Results ---\")\n",
    "for name, response in responses.items():\n",
    " print(name + \" would like to climb \" + response + \".\")"
   ]
  },
  {
   "cell_type": "code",
   "execution_count": 10,
   "id": "fd5183b6",
   "metadata": {},
   "outputs": [
    {
     "name": "stdout",
     "output_type": "stream",
     "text": [
      "I made your Tuna sandwich.\n",
      "I made your Egg Salad sandwich.\n",
      "I made your Meatball sandwich.\n",
      "I made your Reuben sandwich.\n",
      "I made your French Dip sandwich.\n",
      "\n",
      "List of made sandwiches!\n",
      "Tuna sandwich\n",
      "Egg Salad sandwich\n",
      "Meatball sandwich\n",
      "Reuben sandwich\n",
      "French Dip sandwich\n"
     ]
    }
   ],
   "source": [
    "sandwich_orders=[\"French Dip\",\"Reuben\",\"Meatball\",\"Egg Salad\",\"Tuna\"]\n",
    "finished_sandwiches=[]\n",
    "while sandwich_orders:\n",
    "    sandwiches=sandwich_orders.pop()\n",
    "    print(f\"I made your {sandwiches.title()} sandwich.\")  \n",
    "    finished_sandwiches.append(sandwiches)\n",
    "print(\"\\nList of made sandwiches!\")  \n",
    "for sandwich in finished_sandwiches:\n",
    "    print(sandwich,\"sandwich\")\n",
    "  #  print(sandwiches) "
   ]
  },
  {
   "cell_type": "code",
   "execution_count": 11,
   "id": "90d1ef2d",
   "metadata": {},
   "outputs": [
    {
     "name": "stdout",
     "output_type": "stream",
     "text": [
      "The Deli has run out of pastrami!\n",
      "\n",
      "\n",
      "I'm working on your Tuna sandwich.\n",
      "I'm working on your Egg Salad sandwich.\n",
      "I'm working on your Meatball sandwich.\n",
      "I'm working on your Reuben sandwich.\n",
      "\n",
      "Finally!!\n",
      "I made a Tuna sandwich.\n",
      "I made a Egg Salad sandwich.\n",
      "I made a Meatball sandwich.\n",
      "I made a Reuben sandwich.\n"
     ]
    }
   ],
   "source": [
    "sandwich_orders=[\"Pastrami\",\"Reuben\",\"Meatball\",\"Pastrami\",\"Egg Salad\",\"Pastrami\",\"Tuna\"]\n",
    "finished_sandwiches=[]\n",
    "\n",
    "print(\"The Deli has run out of pastrami!\")\n",
    "while 'Pastrami' in sandwich_orders:\n",
    "    sandwich_orders.remove('Pastrami')\n",
    "\n",
    "print(\"\\n\")\n",
    "while sandwich_orders:\n",
    "    current_sandwich = sandwich_orders.pop()\n",
    "    print(\"I'm working on your \" + current_sandwich + \" sandwich.\")\n",
    "    finished_sandwiches.append(current_sandwich)\n",
    "\n",
    "print(\"\\nFinally!!\")\n",
    "for sandwich in finished_sandwiches:\n",
    "    print(\"I made a \" + sandwich + \" sandwich.\")"
   ]
  },
  {
   "cell_type": "code",
   "execution_count": 12,
   "id": "2f3146da",
   "metadata": {},
   "outputs": [
    {
     "name": "stdout",
     "output_type": "stream",
     "text": [
      "\n",
      "What's your name? Dildar\n",
      "If you could visit one place in the world, where would it be? Italy\n",
      "\n",
      "Would you like to ask someone else respond? (yes/no) yes\n",
      "\n",
      "What's your name? Asa\n",
      "If you could visit one place in the world, where would it be? Belgium\n",
      "\n",
      "Would you like to ask someone else respond? (yes/no) no\n",
      "\n",
      "--- Results ---\n",
      "Dildar would like to visit Italy.\n",
      "Asa would like to visit Belgium.\n"
     ]
    }
   ],
   "source": [
    "name_prompt = \"\\nWhat's your name? \"\n",
    "place_prompt = \"If you could visit one place in the world, where would it be? \"\n",
    "continue_prompt = \"\\nWould you like to ask someone else respond? (yes/no) \"\n",
    "\n",
    "responses = {}\n",
    "\n",
    "while True:\n",
    "     \n",
    "    name = input(name_prompt)\n",
    "    place = input(place_prompt)\n",
    "    \n",
    "    responses[name] = place\n",
    "   \n",
    "    repeat = input(continue_prompt)\n",
    "    if repeat != 'yes':\n",
    "        break\n",
    "\n",
    "print(\"\\n--- Results ---\")\n",
    "for name, place in responses.items():\n",
    "    print(name.title() + \" would like to visit \" + place.title() + \".\")\n"
   ]
  },
  {
   "cell_type": "code",
   "execution_count": null,
   "id": "fdf57b75",
   "metadata": {},
   "outputs": [],
   "source": [
    "#                             THE END OF SEVEN CAHPTERS"
   ]
  }
 ],
 "metadata": {
  "kernelspec": {
   "display_name": "Python 3 (ipykernel)",
   "language": "python",
   "name": "python3"
  },
  "language_info": {
   "codemirror_mode": {
    "name": "ipython",
    "version": 3
   },
   "file_extension": ".py",
   "mimetype": "text/x-python",
   "name": "python",
   "nbconvert_exporter": "python",
   "pygments_lexer": "ipython3",
   "version": "3.9.12"
  }
 },
 "nbformat": 4,
 "nbformat_minor": 5
}
